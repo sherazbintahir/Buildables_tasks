{
 "cells": [
  {
   "cell_type": "code",
   "execution_count": 1,
   "id": "9d3f93d6",
   "metadata": {},
   "outputs": [],
   "source": [
    "import numpy as np\n",
    "import pandas as pd"
   ]
  },
  {
   "cell_type": "code",
   "execution_count": 2,
   "id": "5e5cb420",
   "metadata": {},
   "outputs": [
    {
     "data": {
      "application/vnd.microsoft.datawrangler.viewer.v0+json": {
       "columns": [
        {
         "name": "index",
         "rawType": "int64",
         "type": "integer"
        },
        {
         "name": "Name",
         "rawType": "object",
         "type": "string"
        },
        {
         "name": "Price",
         "rawType": "object",
         "type": "string"
        },
        {
         "name": "Image",
         "rawType": "object",
         "type": "string"
        },
        {
         "name": "Link",
         "rawType": "object",
         "type": "string"
        }
       ],
       "ref": "0c3a8a13-0dfa-4677-b4c8-b895cb466dda",
       "rows": [
        [
         "0",
         "Dell 3180 Chromebook 11.6 inches HD screen, 4GB Ram 16GB SSD, HDMI, WiFi, Webcam, Chrome OS / Windows 10",
         "Rs. 8,899",
         "https://img.drz.lazcdn.com/static/pk/p/3a417f0b9a23ddad2b2f315dcb2eb311.jpg_200x200q80.avif",
         "https://www.daraz.pk/products/4gb-4gb-16gb-ssd-hdmi-wifi-os-10-i434350899.html"
        ],
        [
         "1",
         "Hp Chromebook 11 G6 EE | 4GB RAM DDR4 | 16GB SSD EMMC | Playstore supported | 11.6\" screen - Daraz Like New Laptops",
         "Rs. 7,914",
         "https://img.drz.lazcdn.com/static/pk/p/7528aef82be411f7eb921b86a7aaedd4.jpg_200x200q80.avif",
         "https://www.daraz.pk/products/hp-11-g6-ee-air-4gb-ddr4-air-16gb-ssd-emmc-116-i492080752.html"
        ],
        [
         "2",
         "Samsung Chromebook 500C - Celeron processor - 2gb Ram - 16GB SSD - 11.6\" screen - Playstore supported",
         "Rs. 7,200",
         "https://img.drz.lazcdn.com/static/pk/p/614d1368b39f256ad7c7f174c9b3e6e0.jpg_200x200q80.avif",
         "https://www.daraz.pk/products/samsung-chromebook-500c-celeron-processor-2gb-ram-16gb-ssd-116-screen-playstore-supported-i524222885.html"
        ],
        [
         "3",
         "HP Chromebook 11 G4 | 16GB Storage | 2GB RAM | 11.6″ Display | Playstore Supported Chromebook | Black - Daraz Like New Laptops",
         "Rs. 9,499",
         "https://img.drz.lazcdn.com/static/pk/p/cbc9b17018639eff585e39062e1c8a4d.png_200x200q80.avif",
         "https://www.daraz.pk/products/hp-chromebook-11-g4-16gb-storage-2gb-ram-116-display-playstore-supported-chromebook-black-daraz-like-new-laptops-i468636960.html"
        ],
        [
         "4",
         "Daraz Like New Laptops - Lenovo Chromebook 300E/500E X360 TOUCH SCREEN - 2027 UPDATE - Intel Celeron 4GB RAM 32GB Chrome OS",
         "Rs. 13,499",
         "https://img.drz.lazcdn.com/static/pk/p/370ec7e96fc482386820400244e04766.jpg_200x200q80.avif",
         "https://www.daraz.pk/products/300e-x360-2027-4gb-32gb-os-i583998700.html"
        ]
       ],
       "shape": {
        "columns": 4,
        "rows": 5
       }
      },
      "text/html": [
       "<div>\n",
       "<style scoped>\n",
       "    .dataframe tbody tr th:only-of-type {\n",
       "        vertical-align: middle;\n",
       "    }\n",
       "\n",
       "    .dataframe tbody tr th {\n",
       "        vertical-align: top;\n",
       "    }\n",
       "\n",
       "    .dataframe thead th {\n",
       "        text-align: right;\n",
       "    }\n",
       "</style>\n",
       "<table border=\"1\" class=\"dataframe\">\n",
       "  <thead>\n",
       "    <tr style=\"text-align: right;\">\n",
       "      <th></th>\n",
       "      <th>Name</th>\n",
       "      <th>Price</th>\n",
       "      <th>Image</th>\n",
       "      <th>Link</th>\n",
       "    </tr>\n",
       "  </thead>\n",
       "  <tbody>\n",
       "    <tr>\n",
       "      <th>0</th>\n",
       "      <td>Dell 3180 Chromebook 11.6 inches HD screen, 4G...</td>\n",
       "      <td>Rs. 8,899</td>\n",
       "      <td>https://img.drz.lazcdn.com/static/pk/p/3a417f0...</td>\n",
       "      <td>https://www.daraz.pk/products/4gb-4gb-16gb-ssd...</td>\n",
       "    </tr>\n",
       "    <tr>\n",
       "      <th>1</th>\n",
       "      <td>Hp Chromebook 11 G6 EE | 4GB RAM DDR4 | 16GB S...</td>\n",
       "      <td>Rs. 7,914</td>\n",
       "      <td>https://img.drz.lazcdn.com/static/pk/p/7528aef...</td>\n",
       "      <td>https://www.daraz.pk/products/hp-11-g6-ee-air-...</td>\n",
       "    </tr>\n",
       "    <tr>\n",
       "      <th>2</th>\n",
       "      <td>Samsung Chromebook 500C - Celeron processor - ...</td>\n",
       "      <td>Rs. 7,200</td>\n",
       "      <td>https://img.drz.lazcdn.com/static/pk/p/614d136...</td>\n",
       "      <td>https://www.daraz.pk/products/samsung-chromebo...</td>\n",
       "    </tr>\n",
       "    <tr>\n",
       "      <th>3</th>\n",
       "      <td>HP Chromebook 11 G4 | 16GB Storage | 2GB RAM |...</td>\n",
       "      <td>Rs. 9,499</td>\n",
       "      <td>https://img.drz.lazcdn.com/static/pk/p/cbc9b17...</td>\n",
       "      <td>https://www.daraz.pk/products/hp-chromebook-11...</td>\n",
       "    </tr>\n",
       "    <tr>\n",
       "      <th>4</th>\n",
       "      <td>Daraz Like New Laptops - Lenovo Chromebook 300...</td>\n",
       "      <td>Rs. 13,499</td>\n",
       "      <td>https://img.drz.lazcdn.com/static/pk/p/370ec7e...</td>\n",
       "      <td>https://www.daraz.pk/products/300e-x360-2027-4...</td>\n",
       "    </tr>\n",
       "  </tbody>\n",
       "</table>\n",
       "</div>"
      ],
      "text/plain": [
       "                                                Name       Price  \\\n",
       "0  Dell 3180 Chromebook 11.6 inches HD screen, 4G...   Rs. 8,899   \n",
       "1  Hp Chromebook 11 G6 EE | 4GB RAM DDR4 | 16GB S...   Rs. 7,914   \n",
       "2  Samsung Chromebook 500C - Celeron processor - ...   Rs. 7,200   \n",
       "3  HP Chromebook 11 G4 | 16GB Storage | 2GB RAM |...   Rs. 9,499   \n",
       "4  Daraz Like New Laptops - Lenovo Chromebook 300...  Rs. 13,499   \n",
       "\n",
       "                                               Image  \\\n",
       "0  https://img.drz.lazcdn.com/static/pk/p/3a417f0...   \n",
       "1  https://img.drz.lazcdn.com/static/pk/p/7528aef...   \n",
       "2  https://img.drz.lazcdn.com/static/pk/p/614d136...   \n",
       "3  https://img.drz.lazcdn.com/static/pk/p/cbc9b17...   \n",
       "4  https://img.drz.lazcdn.com/static/pk/p/370ec7e...   \n",
       "\n",
       "                                                Link  \n",
       "0  https://www.daraz.pk/products/4gb-4gb-16gb-ssd...  \n",
       "1  https://www.daraz.pk/products/hp-11-g6-ee-air-...  \n",
       "2  https://www.daraz.pk/products/samsung-chromebo...  \n",
       "3  https://www.daraz.pk/products/hp-chromebook-11...  \n",
       "4  https://www.daraz.pk/products/300e-x360-2027-4...  "
      ]
     },
     "execution_count": 2,
     "metadata": {},
     "output_type": "execute_result"
    }
   ],
   "source": [
    "df = pd.read_csv(\"D:/Buildables/Week 2 Task 1 - Selenium Scraping/Task 1 - Selenium Scraping/daraz_laptops.csv\")\n",
    "df.head()"
   ]
  },
  {
   "cell_type": "markdown",
   "id": "8f531d57",
   "metadata": {},
   "source": [
    "__CLEANING__"
   ]
  },
  {
   "cell_type": "code",
   "execution_count": 3,
   "id": "9438ffc9",
   "metadata": {},
   "outputs": [
    {
     "data": {
      "application/vnd.microsoft.datawrangler.viewer.v0+json": {
       "columns": [
        {
         "name": "index",
         "rawType": "object",
         "type": "string"
        },
        {
         "name": "0",
         "rawType": "int64",
         "type": "integer"
        }
       ],
       "ref": "aad2e057-3df5-4fd7-8eb8-63323b2b3551",
       "rows": [
        [
         "Name",
         "0"
        ],
        [
         "Price",
         "0"
        ],
        [
         "Image",
         "0"
        ],
        [
         "Link",
         "0"
        ]
       ],
       "shape": {
        "columns": 1,
        "rows": 4
       }
      },
      "text/plain": [
       "Name     0\n",
       "Price    0\n",
       "Image    0\n",
       "Link     0\n",
       "dtype: int64"
      ]
     },
     "execution_count": 3,
     "metadata": {},
     "output_type": "execute_result"
    }
   ],
   "source": [
    "df.isnull().sum()"
   ]
  },
  {
   "cell_type": "code",
   "execution_count": 4,
   "id": "a985fd20",
   "metadata": {},
   "outputs": [
    {
     "data": {
      "application/vnd.microsoft.datawrangler.viewer.v0+json": {
       "columns": [
        {
         "name": "index",
         "rawType": "int64",
         "type": "integer"
        },
        {
         "name": "name",
         "rawType": "object",
         "type": "string"
        },
        {
         "name": "price",
         "rawType": "object",
         "type": "string"
        },
        {
         "name": "image",
         "rawType": "object",
         "type": "string"
        },
        {
         "name": "link",
         "rawType": "object",
         "type": "string"
        }
       ],
       "ref": "8c99c667-c88a-4100-852d-27fac683ef36",
       "rows": [
        [
         "0",
         "Dell 3180 Chromebook 11.6 inches HD screen, 4GB Ram 16GB SSD, HDMI, WiFi, Webcam, Chrome OS / Windows 10",
         "Rs. 8,899",
         "https://img.drz.lazcdn.com/static/pk/p/3a417f0b9a23ddad2b2f315dcb2eb311.jpg_200x200q80.avif",
         "https://www.daraz.pk/products/4gb-4gb-16gb-ssd-hdmi-wifi-os-10-i434350899.html"
        ],
        [
         "1",
         "Hp Chromebook 11 G6 EE | 4GB RAM DDR4 | 16GB SSD EMMC | Playstore supported | 11.6\" screen - Daraz Like New Laptops",
         "Rs. 7,914",
         "https://img.drz.lazcdn.com/static/pk/p/7528aef82be411f7eb921b86a7aaedd4.jpg_200x200q80.avif",
         "https://www.daraz.pk/products/hp-11-g6-ee-air-4gb-ddr4-air-16gb-ssd-emmc-116-i492080752.html"
        ],
        [
         "2",
         "Samsung Chromebook 500C - Celeron processor - 2gb Ram - 16GB SSD - 11.6\" screen - Playstore supported",
         "Rs. 7,200",
         "https://img.drz.lazcdn.com/static/pk/p/614d1368b39f256ad7c7f174c9b3e6e0.jpg_200x200q80.avif",
         "https://www.daraz.pk/products/samsung-chromebook-500c-celeron-processor-2gb-ram-16gb-ssd-116-screen-playstore-supported-i524222885.html"
        ],
        [
         "3",
         "HP Chromebook 11 G4 | 16GB Storage | 2GB RAM | 11.6″ Display | Playstore Supported Chromebook | Black - Daraz Like New Laptops",
         "Rs. 9,499",
         "https://img.drz.lazcdn.com/static/pk/p/cbc9b17018639eff585e39062e1c8a4d.png_200x200q80.avif",
         "https://www.daraz.pk/products/hp-chromebook-11-g4-16gb-storage-2gb-ram-116-display-playstore-supported-chromebook-black-daraz-like-new-laptops-i468636960.html"
        ],
        [
         "4",
         "Daraz Like New Laptops - Lenovo Chromebook 300E/500E X360 TOUCH SCREEN - 2027 UPDATE - Intel Celeron 4GB RAM 32GB Chrome OS",
         "Rs. 13,499",
         "https://img.drz.lazcdn.com/static/pk/p/370ec7e96fc482386820400244e04766.jpg_200x200q80.avif",
         "https://www.daraz.pk/products/300e-x360-2027-4gb-32gb-os-i583998700.html"
        ]
       ],
       "shape": {
        "columns": 4,
        "rows": 5
       }
      },
      "text/html": [
       "<div>\n",
       "<style scoped>\n",
       "    .dataframe tbody tr th:only-of-type {\n",
       "        vertical-align: middle;\n",
       "    }\n",
       "\n",
       "    .dataframe tbody tr th {\n",
       "        vertical-align: top;\n",
       "    }\n",
       "\n",
       "    .dataframe thead th {\n",
       "        text-align: right;\n",
       "    }\n",
       "</style>\n",
       "<table border=\"1\" class=\"dataframe\">\n",
       "  <thead>\n",
       "    <tr style=\"text-align: right;\">\n",
       "      <th></th>\n",
       "      <th>name</th>\n",
       "      <th>price</th>\n",
       "      <th>image</th>\n",
       "      <th>link</th>\n",
       "    </tr>\n",
       "  </thead>\n",
       "  <tbody>\n",
       "    <tr>\n",
       "      <th>0</th>\n",
       "      <td>Dell 3180 Chromebook 11.6 inches HD screen, 4G...</td>\n",
       "      <td>Rs. 8,899</td>\n",
       "      <td>https://img.drz.lazcdn.com/static/pk/p/3a417f0...</td>\n",
       "      <td>https://www.daraz.pk/products/4gb-4gb-16gb-ssd...</td>\n",
       "    </tr>\n",
       "    <tr>\n",
       "      <th>1</th>\n",
       "      <td>Hp Chromebook 11 G6 EE | 4GB RAM DDR4 | 16GB S...</td>\n",
       "      <td>Rs. 7,914</td>\n",
       "      <td>https://img.drz.lazcdn.com/static/pk/p/7528aef...</td>\n",
       "      <td>https://www.daraz.pk/products/hp-11-g6-ee-air-...</td>\n",
       "    </tr>\n",
       "    <tr>\n",
       "      <th>2</th>\n",
       "      <td>Samsung Chromebook 500C - Celeron processor - ...</td>\n",
       "      <td>Rs. 7,200</td>\n",
       "      <td>https://img.drz.lazcdn.com/static/pk/p/614d136...</td>\n",
       "      <td>https://www.daraz.pk/products/samsung-chromebo...</td>\n",
       "    </tr>\n",
       "    <tr>\n",
       "      <th>3</th>\n",
       "      <td>HP Chromebook 11 G4 | 16GB Storage | 2GB RAM |...</td>\n",
       "      <td>Rs. 9,499</td>\n",
       "      <td>https://img.drz.lazcdn.com/static/pk/p/cbc9b17...</td>\n",
       "      <td>https://www.daraz.pk/products/hp-chromebook-11...</td>\n",
       "    </tr>\n",
       "    <tr>\n",
       "      <th>4</th>\n",
       "      <td>Daraz Like New Laptops - Lenovo Chromebook 300...</td>\n",
       "      <td>Rs. 13,499</td>\n",
       "      <td>https://img.drz.lazcdn.com/static/pk/p/370ec7e...</td>\n",
       "      <td>https://www.daraz.pk/products/300e-x360-2027-4...</td>\n",
       "    </tr>\n",
       "  </tbody>\n",
       "</table>\n",
       "</div>"
      ],
      "text/plain": [
       "                                                name       price  \\\n",
       "0  Dell 3180 Chromebook 11.6 inches HD screen, 4G...   Rs. 8,899   \n",
       "1  Hp Chromebook 11 G6 EE | 4GB RAM DDR4 | 16GB S...   Rs. 7,914   \n",
       "2  Samsung Chromebook 500C - Celeron processor - ...   Rs. 7,200   \n",
       "3  HP Chromebook 11 G4 | 16GB Storage | 2GB RAM |...   Rs. 9,499   \n",
       "4  Daraz Like New Laptops - Lenovo Chromebook 300...  Rs. 13,499   \n",
       "\n",
       "                                               image  \\\n",
       "0  https://img.drz.lazcdn.com/static/pk/p/3a417f0...   \n",
       "1  https://img.drz.lazcdn.com/static/pk/p/7528aef...   \n",
       "2  https://img.drz.lazcdn.com/static/pk/p/614d136...   \n",
       "3  https://img.drz.lazcdn.com/static/pk/p/cbc9b17...   \n",
       "4  https://img.drz.lazcdn.com/static/pk/p/370ec7e...   \n",
       "\n",
       "                                                link  \n",
       "0  https://www.daraz.pk/products/4gb-4gb-16gb-ssd...  \n",
       "1  https://www.daraz.pk/products/hp-11-g6-ee-air-...  \n",
       "2  https://www.daraz.pk/products/samsung-chromebo...  \n",
       "3  https://www.daraz.pk/products/hp-chromebook-11...  \n",
       "4  https://www.daraz.pk/products/300e-x360-2027-4...  "
      ]
     },
     "execution_count": 4,
     "metadata": {},
     "output_type": "execute_result"
    }
   ],
   "source": [
    "# Standardize column names (lowercase + no spaces)\n",
    "df.columns = df.columns.str.strip().str.lower()\n",
    "df.head()"
   ]
  },
  {
   "cell_type": "code",
   "execution_count": 5,
   "id": "4b875031",
   "metadata": {},
   "outputs": [
    {
     "data": {
      "text/plain": [
       "54"
      ]
     },
     "execution_count": 5,
     "metadata": {},
     "output_type": "execute_result"
    }
   ],
   "source": [
    "# Removing Duplicates\n",
    "df.duplicated().sum()"
   ]
  },
  {
   "cell_type": "code",
   "execution_count": 6,
   "id": "0f7331b3",
   "metadata": {},
   "outputs": [],
   "source": [
    "df = df.drop_duplicates()"
   ]
  },
  {
   "cell_type": "code",
   "execution_count": 7,
   "id": "651c81fa",
   "metadata": {},
   "outputs": [
    {
     "data": {
      "text/plain": [
       "0"
      ]
     },
     "execution_count": 7,
     "metadata": {},
     "output_type": "execute_result"
    }
   ],
   "source": [
    "df.duplicated().sum()"
   ]
  },
  {
   "cell_type": "markdown",
   "id": "499da3ba",
   "metadata": {},
   "source": [
    "___NORMALIZATION___"
   ]
  },
  {
   "cell_type": "code",
   "execution_count": 8,
   "id": "75550fe4",
   "metadata": {},
   "outputs": [],
   "source": [
    "# Clean and convert price column to numeric\n",
    "df['price'] = df['price'].astype(str).str.replace(r'[^0-9]', '', regex=True)\n",
    "df['price'] = pd.to_numeric(df['price'], errors='coerce')"
   ]
  },
  {
   "cell_type": "code",
   "execution_count": 9,
   "id": "b6b95d51",
   "metadata": {},
   "outputs": [],
   "source": [
    "# Normalize product names: strip spaces and lowercase\n",
    "df['name'] = df['name'].str.strip().str.lower()"
   ]
  },
  {
   "cell_type": "code",
   "execution_count": 10,
   "id": "d8e31ca9",
   "metadata": {},
   "outputs": [
    {
     "name": "stdout",
     "output_type": "stream",
     "text": [
      "After Normalization:\n",
      "                                                name  price\n",
      "0  dell 3180 chromebook 11.6 inches hd screen, 4g...   8899\n",
      "1  hp chromebook 11 g6 ee | 4gb ram ddr4 | 16gb s...   7914\n",
      "2  samsung chromebook 500c - celeron processor - ...   7200\n",
      "3  hp chromebook 11 g4 | 16gb storage | 2gb ram |...   9499\n",
      "4  daraz like new laptops - lenovo chromebook 300...  13499\n"
     ]
    }
   ],
   "source": [
    "# Preview after normalization\n",
    "print(\"After Normalization:\")\n",
    "print(df[['name', 'price']].head())"
   ]
  },
  {
   "cell_type": "code",
   "execution_count": 11,
   "id": "abd37957",
   "metadata": {},
   "outputs": [
    {
     "data": {
      "application/vnd.microsoft.datawrangler.viewer.v0+json": {
       "columns": [
        {
         "name": "index",
         "rawType": "int64",
         "type": "integer"
        },
        {
         "name": "name",
         "rawType": "object",
         "type": "string"
        },
        {
         "name": "price",
         "rawType": "int64",
         "type": "integer"
        },
        {
         "name": "image",
         "rawType": "object",
         "type": "string"
        },
        {
         "name": "link",
         "rawType": "object",
         "type": "string"
        }
       ],
       "ref": "871d4161-fe92-4b35-bc7e-57aa77286c55",
       "rows": [
        [
         "0",
         "dell 3180 chromebook 11.6 inches hd screen, 4gb ram 16gb ssd, hdmi, wifi, webcam, chrome os / windows 10",
         "8899",
         "https://img.drz.lazcdn.com/static/pk/p/3a417f0b9a23ddad2b2f315dcb2eb311.jpg_200x200q80.avif",
         "https://www.daraz.pk/products/4gb-4gb-16gb-ssd-hdmi-wifi-os-10-i434350899.html"
        ],
        [
         "1",
         "hp chromebook 11 g6 ee | 4gb ram ddr4 | 16gb ssd emmc | playstore supported | 11.6\" screen - daraz like new laptops",
         "7914",
         "https://img.drz.lazcdn.com/static/pk/p/7528aef82be411f7eb921b86a7aaedd4.jpg_200x200q80.avif",
         "https://www.daraz.pk/products/hp-11-g6-ee-air-4gb-ddr4-air-16gb-ssd-emmc-116-i492080752.html"
        ],
        [
         "2",
         "samsung chromebook 500c - celeron processor - 2gb ram - 16gb ssd - 11.6\" screen - playstore supported",
         "7200",
         "https://img.drz.lazcdn.com/static/pk/p/614d1368b39f256ad7c7f174c9b3e6e0.jpg_200x200q80.avif",
         "https://www.daraz.pk/products/samsung-chromebook-500c-celeron-processor-2gb-ram-16gb-ssd-116-screen-playstore-supported-i524222885.html"
        ],
        [
         "3",
         "hp chromebook 11 g4 | 16gb storage | 2gb ram | 11.6″ display | playstore supported chromebook | black - daraz like new laptops",
         "9499",
         "https://img.drz.lazcdn.com/static/pk/p/cbc9b17018639eff585e39062e1c8a4d.png_200x200q80.avif",
         "https://www.daraz.pk/products/hp-chromebook-11-g4-16gb-storage-2gb-ram-116-display-playstore-supported-chromebook-black-daraz-like-new-laptops-i468636960.html"
        ],
        [
         "4",
         "daraz like new laptops - lenovo chromebook 300e/500e x360 touch screen - 2027 update - intel celeron 4gb ram 32gb chrome os",
         "13499",
         "https://img.drz.lazcdn.com/static/pk/p/370ec7e96fc482386820400244e04766.jpg_200x200q80.avif",
         "https://www.daraz.pk/products/300e-x360-2027-4gb-32gb-os-i583998700.html"
        ]
       ],
       "shape": {
        "columns": 4,
        "rows": 5
       }
      },
      "text/html": [
       "<div>\n",
       "<style scoped>\n",
       "    .dataframe tbody tr th:only-of-type {\n",
       "        vertical-align: middle;\n",
       "    }\n",
       "\n",
       "    .dataframe tbody tr th {\n",
       "        vertical-align: top;\n",
       "    }\n",
       "\n",
       "    .dataframe thead th {\n",
       "        text-align: right;\n",
       "    }\n",
       "</style>\n",
       "<table border=\"1\" class=\"dataframe\">\n",
       "  <thead>\n",
       "    <tr style=\"text-align: right;\">\n",
       "      <th></th>\n",
       "      <th>name</th>\n",
       "      <th>price</th>\n",
       "      <th>image</th>\n",
       "      <th>link</th>\n",
       "    </tr>\n",
       "  </thead>\n",
       "  <tbody>\n",
       "    <tr>\n",
       "      <th>0</th>\n",
       "      <td>dell 3180 chromebook 11.6 inches hd screen, 4g...</td>\n",
       "      <td>8899</td>\n",
       "      <td>https://img.drz.lazcdn.com/static/pk/p/3a417f0...</td>\n",
       "      <td>https://www.daraz.pk/products/4gb-4gb-16gb-ssd...</td>\n",
       "    </tr>\n",
       "    <tr>\n",
       "      <th>1</th>\n",
       "      <td>hp chromebook 11 g6 ee | 4gb ram ddr4 | 16gb s...</td>\n",
       "      <td>7914</td>\n",
       "      <td>https://img.drz.lazcdn.com/static/pk/p/7528aef...</td>\n",
       "      <td>https://www.daraz.pk/products/hp-11-g6-ee-air-...</td>\n",
       "    </tr>\n",
       "    <tr>\n",
       "      <th>2</th>\n",
       "      <td>samsung chromebook 500c - celeron processor - ...</td>\n",
       "      <td>7200</td>\n",
       "      <td>https://img.drz.lazcdn.com/static/pk/p/614d136...</td>\n",
       "      <td>https://www.daraz.pk/products/samsung-chromebo...</td>\n",
       "    </tr>\n",
       "    <tr>\n",
       "      <th>3</th>\n",
       "      <td>hp chromebook 11 g4 | 16gb storage | 2gb ram |...</td>\n",
       "      <td>9499</td>\n",
       "      <td>https://img.drz.lazcdn.com/static/pk/p/cbc9b17...</td>\n",
       "      <td>https://www.daraz.pk/products/hp-chromebook-11...</td>\n",
       "    </tr>\n",
       "    <tr>\n",
       "      <th>4</th>\n",
       "      <td>daraz like new laptops - lenovo chromebook 300...</td>\n",
       "      <td>13499</td>\n",
       "      <td>https://img.drz.lazcdn.com/static/pk/p/370ec7e...</td>\n",
       "      <td>https://www.daraz.pk/products/300e-x360-2027-4...</td>\n",
       "    </tr>\n",
       "  </tbody>\n",
       "</table>\n",
       "</div>"
      ],
      "text/plain": [
       "                                                name  price  \\\n",
       "0  dell 3180 chromebook 11.6 inches hd screen, 4g...   8899   \n",
       "1  hp chromebook 11 g6 ee | 4gb ram ddr4 | 16gb s...   7914   \n",
       "2  samsung chromebook 500c - celeron processor - ...   7200   \n",
       "3  hp chromebook 11 g4 | 16gb storage | 2gb ram |...   9499   \n",
       "4  daraz like new laptops - lenovo chromebook 300...  13499   \n",
       "\n",
       "                                               image  \\\n",
       "0  https://img.drz.lazcdn.com/static/pk/p/3a417f0...   \n",
       "1  https://img.drz.lazcdn.com/static/pk/p/7528aef...   \n",
       "2  https://img.drz.lazcdn.com/static/pk/p/614d136...   \n",
       "3  https://img.drz.lazcdn.com/static/pk/p/cbc9b17...   \n",
       "4  https://img.drz.lazcdn.com/static/pk/p/370ec7e...   \n",
       "\n",
       "                                                link  \n",
       "0  https://www.daraz.pk/products/4gb-4gb-16gb-ssd...  \n",
       "1  https://www.daraz.pk/products/hp-11-g6-ee-air-...  \n",
       "2  https://www.daraz.pk/products/samsung-chromebo...  \n",
       "3  https://www.daraz.pk/products/hp-chromebook-11...  \n",
       "4  https://www.daraz.pk/products/300e-x360-2027-4...  "
      ]
     },
     "execution_count": 11,
     "metadata": {},
     "output_type": "execute_result"
    }
   ],
   "source": [
    "df.head()"
   ]
  },
  {
   "cell_type": "markdown",
   "id": "57cff7b0",
   "metadata": {},
   "source": [
    "___ENCODING___"
   ]
  },
  {
   "cell_type": "code",
   "execution_count": 12,
   "id": "f1add564",
   "metadata": {},
   "outputs": [
    {
     "data": {
      "application/vnd.microsoft.datawrangler.viewer.v0+json": {
       "columns": [
        {
         "name": "index",
         "rawType": "int64",
         "type": "integer"
        },
        {
         "name": "name",
         "rawType": "object",
         "type": "string"
        },
        {
         "name": "price",
         "rawType": "int64",
         "type": "integer"
        },
        {
         "name": "image",
         "rawType": "object",
         "type": "string"
        },
        {
         "name": "link",
         "rawType": "object",
         "type": "string"
        },
        {
         "name": "brand",
         "rawType": "object",
         "type": "string"
        }
       ],
       "ref": "68caf3de-0878-4f83-8b6f-2ab11f002175",
       "rows": [
        [
         "0",
         "dell 3180 chromebook 11.6 inches hd screen, 4gb ram 16gb ssd, hdmi, wifi, webcam, chrome os / windows 10",
         "8899",
         "https://img.drz.lazcdn.com/static/pk/p/3a417f0b9a23ddad2b2f315dcb2eb311.jpg_200x200q80.avif",
         "https://www.daraz.pk/products/4gb-4gb-16gb-ssd-hdmi-wifi-os-10-i434350899.html",
         "dell"
        ]
       ],
       "shape": {
        "columns": 5,
        "rows": 1
       }
      },
      "text/html": [
       "<div>\n",
       "<style scoped>\n",
       "    .dataframe tbody tr th:only-of-type {\n",
       "        vertical-align: middle;\n",
       "    }\n",
       "\n",
       "    .dataframe tbody tr th {\n",
       "        vertical-align: top;\n",
       "    }\n",
       "\n",
       "    .dataframe thead th {\n",
       "        text-align: right;\n",
       "    }\n",
       "</style>\n",
       "<table border=\"1\" class=\"dataframe\">\n",
       "  <thead>\n",
       "    <tr style=\"text-align: right;\">\n",
       "      <th></th>\n",
       "      <th>name</th>\n",
       "      <th>price</th>\n",
       "      <th>image</th>\n",
       "      <th>link</th>\n",
       "      <th>brand</th>\n",
       "    </tr>\n",
       "  </thead>\n",
       "  <tbody>\n",
       "    <tr>\n",
       "      <th>0</th>\n",
       "      <td>dell 3180 chromebook 11.6 inches hd screen, 4g...</td>\n",
       "      <td>8899</td>\n",
       "      <td>https://img.drz.lazcdn.com/static/pk/p/3a417f0...</td>\n",
       "      <td>https://www.daraz.pk/products/4gb-4gb-16gb-ssd...</td>\n",
       "      <td>dell</td>\n",
       "    </tr>\n",
       "  </tbody>\n",
       "</table>\n",
       "</div>"
      ],
      "text/plain": [
       "                                                name  price  \\\n",
       "0  dell 3180 chromebook 11.6 inches hd screen, 4g...   8899   \n",
       "\n",
       "                                               image  \\\n",
       "0  https://img.drz.lazcdn.com/static/pk/p/3a417f0...   \n",
       "\n",
       "                                                link brand  \n",
       "0  https://www.daraz.pk/products/4gb-4gb-16gb-ssd...  dell  "
      ]
     },
     "execution_count": 12,
     "metadata": {},
     "output_type": "execute_result"
    }
   ],
   "source": [
    "# Extract brand name as the first word of 'name'\n",
    "df['brand'] = df['name'].str.split().str[0]\n",
    "df.head(1)"
   ]
  },
  {
   "cell_type": "code",
   "execution_count": 13,
   "id": "7d1dd236",
   "metadata": {},
   "outputs": [
    {
     "data": {
      "application/vnd.microsoft.datawrangler.viewer.v0+json": {
       "columns": [
        {
         "name": "index",
         "rawType": "int64",
         "type": "integer"
        },
        {
         "name": "name",
         "rawType": "object",
         "type": "string"
        },
        {
         "name": "brand",
         "rawType": "object",
         "type": "string"
        },
        {
         "name": "price",
         "rawType": "int64",
         "type": "integer"
        }
       ],
       "ref": "d9377fec-df42-435a-b4ad-387e359ebaa8",
       "rows": [
        [
         "0",
         "dell 3180 chromebook 11.6 inches hd screen, 4gb ram 16gb ssd, hdmi, wifi, webcam, chrome os / windows 10",
         "dell",
         "8899"
        ],
        [
         "1",
         "hp chromebook 11 g6 ee | 4gb ram ddr4 | 16gb ssd emmc | playstore supported | 11.6\" screen - daraz like new laptops",
         "hp",
         "7914"
        ],
        [
         "2",
         "samsung chromebook 500c - celeron processor - 2gb ram - 16gb ssd - 11.6\" screen - playstore supported",
         "samsung",
         "7200"
        ],
        [
         "3",
         "hp chromebook 11 g4 | 16gb storage | 2gb ram | 11.6″ display | playstore supported chromebook | black - daraz like new laptops",
         "hp",
         "9499"
        ],
        [
         "4",
         "daraz like new laptops - lenovo chromebook 300e/500e x360 touch screen - 2027 update - intel celeron 4gb ram 32gb chrome os",
         "daraz",
         "13499"
        ]
       ],
       "shape": {
        "columns": 3,
        "rows": 5
       }
      },
      "text/html": [
       "<div>\n",
       "<style scoped>\n",
       "    .dataframe tbody tr th:only-of-type {\n",
       "        vertical-align: middle;\n",
       "    }\n",
       "\n",
       "    .dataframe tbody tr th {\n",
       "        vertical-align: top;\n",
       "    }\n",
       "\n",
       "    .dataframe thead th {\n",
       "        text-align: right;\n",
       "    }\n",
       "</style>\n",
       "<table border=\"1\" class=\"dataframe\">\n",
       "  <thead>\n",
       "    <tr style=\"text-align: right;\">\n",
       "      <th></th>\n",
       "      <th>name</th>\n",
       "      <th>brand</th>\n",
       "      <th>price</th>\n",
       "    </tr>\n",
       "  </thead>\n",
       "  <tbody>\n",
       "    <tr>\n",
       "      <th>0</th>\n",
       "      <td>dell 3180 chromebook 11.6 inches hd screen, 4g...</td>\n",
       "      <td>dell</td>\n",
       "      <td>8899</td>\n",
       "    </tr>\n",
       "    <tr>\n",
       "      <th>1</th>\n",
       "      <td>hp chromebook 11 g6 ee | 4gb ram ddr4 | 16gb s...</td>\n",
       "      <td>hp</td>\n",
       "      <td>7914</td>\n",
       "    </tr>\n",
       "    <tr>\n",
       "      <th>2</th>\n",
       "      <td>samsung chromebook 500c - celeron processor - ...</td>\n",
       "      <td>samsung</td>\n",
       "      <td>7200</td>\n",
       "    </tr>\n",
       "    <tr>\n",
       "      <th>3</th>\n",
       "      <td>hp chromebook 11 g4 | 16gb storage | 2gb ram |...</td>\n",
       "      <td>hp</td>\n",
       "      <td>9499</td>\n",
       "    </tr>\n",
       "    <tr>\n",
       "      <th>4</th>\n",
       "      <td>daraz like new laptops - lenovo chromebook 300...</td>\n",
       "      <td>daraz</td>\n",
       "      <td>13499</td>\n",
       "    </tr>\n",
       "  </tbody>\n",
       "</table>\n",
       "</div>"
      ],
      "text/plain": [
       "                                                name    brand  price\n",
       "0  dell 3180 chromebook 11.6 inches hd screen, 4g...     dell   8899\n",
       "1  hp chromebook 11 g6 ee | 4gb ram ddr4 | 16gb s...       hp   7914\n",
       "2  samsung chromebook 500c - celeron processor - ...  samsung   7200\n",
       "3  hp chromebook 11 g4 | 16gb storage | 2gb ram |...       hp   9499\n",
       "4  daraz like new laptops - lenovo chromebook 300...    daraz  13499"
      ]
     },
     "execution_count": 13,
     "metadata": {},
     "output_type": "execute_result"
    }
   ],
   "source": [
    "df[['name','brand','price']].head()"
   ]
  },
  {
   "cell_type": "code",
   "execution_count": 14,
   "id": "07061075",
   "metadata": {},
   "outputs": [],
   "source": [
    "df.to_csv(\"daraz_laptops_clean.csv\", index=False)"
   ]
  }
 ],
 "metadata": {
  "kernelspec": {
   "display_name": "DSML",
   "language": "python",
   "name": "python3"
  },
  "language_info": {
   "codemirror_mode": {
    "name": "ipython",
    "version": 3
   },
   "file_extension": ".py",
   "mimetype": "text/x-python",
   "name": "python",
   "nbconvert_exporter": "python",
   "pygments_lexer": "ipython3",
   "version": "3.9.18"
  }
 },
 "nbformat": 4,
 "nbformat_minor": 5
}
