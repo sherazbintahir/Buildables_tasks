{
 "cells": [
  {
   "cell_type": "markdown",
   "id": "7d08dc6d",
   "metadata": {},
   "source": [
    "# ___DATA SCRAPING UISNG SELENIUM___\n",
    "\n",
    "- Selenium is a web automation tool that lets Python control a web browser like a human to scrap data.\n",
    "\n",
    "__WORK FLOW__\n",
    "- Open a browser with Selenium (e.g., Chrome, Firefox).\n",
    "- Navigate to the website (e.g., Amazon).\n",
    "- Find elements on the page (search boxes, product titles, prices).\n",
    "- Extract information (text, attributes like links).\n",
    "- Store the data (CSV, Excel, database)"
   ]
  },
  {
   "cell_type": "markdown",
   "id": "3d6a43fb",
   "metadata": {},
   "source": [
    "___Installation___"
   ]
  },
  {
   "cell_type": "code",
   "execution_count": 1,
   "id": "924b479b",
   "metadata": {},
   "outputs": [],
   "source": [
    "# pip install selenium"
   ]
  },
  {
   "cell_type": "code",
   "execution_count": 1,
   "id": "3096974e",
   "metadata": {},
   "outputs": [],
   "source": [
    "from selenium import webdriver\n",
    "from selenium.webdriver.common.by import By\n",
    "from selenium.webdriver.chrome.service import Service\n",
    "from selenium.webdriver.common.keys import Keys\n",
    "from selenium.webdriver.support.ui import WebDriverWait\n",
    "from selenium.webdriver.support import expected_conditions as EC\n",
    "from webdriver_manager.chrome import ChromeDriverManager\n",
    "import pandas as pd\n",
    "import time"
   ]
  },
  {
   "cell_type": "code",
   "execution_count": 3,
   "id": "298f28fe",
   "metadata": {},
   "outputs": [],
   "source": [
    "# Setup Chrome\n",
    "driver = webdriver.Chrome(service=Service(ChromeDriverManager().install()))\n",
    "driver.maximize_window()\n",
    "\n",
    "url = \"https://www.daraz.pk/catalog/?q=laptop&_keyori=ss&from=input&spm=a2a0e.searchlist.search.go.239f6d69N6SkTv\"\n",
    "driver.get(url)\n",
    "\n",
    "wait = WebDriverWait(driver, 15)\n",
    "time.sleep(3)"
   ]
  },
  {
   "cell_type": "markdown",
   "id": "d2ff33db",
   "metadata": {},
   "source": [
    "__Extarcting__ \n",
    "- Product name\n",
    "- Price\n",
    "- Image link\n",
    "- Product link\n",
    "\n",
    "__WHEN YOU RUN THE CODE, IT WILL ASK YOU NUMBER OF PAGES TO SCRAP__"
   ]
  },
  {
   "cell_type": "code",
   "execution_count": 4,
   "id": "5f7a56aa",
   "metadata": {},
   "outputs": [
    {
     "name": "stdout",
     "output_type": "stream",
     "text": [
      "Scraping Page 1...\n",
      "Scraping Page 2...\n",
      "Scraping Page 3...\n",
      "Scraping Page 4...\n",
      "Scraping Page 5...\n",
      "Scraping Page 6...\n",
      "Scraping Page 7...\n"
     ]
    }
   ],
   "source": [
    "laptops = []\n",
    "page = 1\n",
    "max_pages = int(input(\"Enter the number of pages to scrape: \")) \n",
    "\n",
    "while page <= max_pages:\n",
    "    print(f\"Scraping Page {page}...\")\n",
    "\n",
    "    # Scroll down slowly to load products\n",
    "    for _ in range(3):\n",
    "        driver.find_element(By.TAG_NAME, \"body\").send_keys(Keys.END)\n",
    "        time.sleep(2)\n",
    "\n",
    "    products = driver.find_elements(By.CLASS_NAME, \"Bm3ON\")\n",
    "\n",
    "    for product in products:\n",
    "        try:\n",
    "            name = product.find_element(By.CLASS_NAME, \"RfADt\").text\n",
    "        except:\n",
    "            name = None\n",
    "\n",
    "        try:\n",
    "            price = product.find_element(By.CLASS_NAME, \"ooOxS\").text\n",
    "        except:\n",
    "            price = None\n",
    "\n",
    "        try:\n",
    "            img = product.find_element(By.TAG_NAME, \"img\").get_attribute(\"src\")\n",
    "        except:\n",
    "            img = None\n",
    "\n",
    "        try:\n",
    "            link = product.find_element(By.TAG_NAME, \"a\").get_attribute(\"href\")\n",
    "        except:\n",
    "            link = None\n",
    "\n",
    "        laptops.append([name, price, img, link])\n",
    "\n",
    "\n",
    "    try:\n",
    "        # Find page number button instead of \"next\"\n",
    "        next_page_btn = wait.until(\n",
    "            EC.element_to_be_clickable(\n",
    "                (By.XPATH, f\"//li[@title='{page+1}']/a\")\n",
    "            )\n",
    "        )\n",
    "        driver.execute_script(\"arguments[0].click();\", next_page_btn)\n",
    "        time.sleep(4)\n",
    "        page += 1\n",
    "    except:\n",
    "        print(\"No more pages found or last page reached.\")\n",
    "        break\n",
    "\n",
    "driver.quit()"
   ]
  },
  {
   "cell_type": "code",
   "execution_count": 3,
   "id": "2e50c7bc",
   "metadata": {},
   "outputs": [
    {
     "ename": "NameError",
     "evalue": "name 'laptops' is not defined",
     "output_type": "error",
     "traceback": [
      "\u001b[1;31m---------------------------------------------------------------------------\u001b[0m",
      "\u001b[1;31mNameError\u001b[0m                                 Traceback (most recent call last)",
      "Cell \u001b[1;32mIn[3], line 2\u001b[0m\n\u001b[0;32m      1\u001b[0m \u001b[38;5;66;03m# Save data\u001b[39;00m\n\u001b[1;32m----> 2\u001b[0m df \u001b[38;5;241m=\u001b[39m pd\u001b[38;5;241m.\u001b[39mDataFrame(\u001b[43mlaptops\u001b[49m, columns\u001b[38;5;241m=\u001b[39m[\u001b[38;5;124m\"\u001b[39m\u001b[38;5;124mName\u001b[39m\u001b[38;5;124m\"\u001b[39m, \u001b[38;5;124m\"\u001b[39m\u001b[38;5;124mPrice\u001b[39m\u001b[38;5;124m\"\u001b[39m, \u001b[38;5;124m\"\u001b[39m\u001b[38;5;124mImage\u001b[39m\u001b[38;5;124m\"\u001b[39m, \u001b[38;5;124m\"\u001b[39m\u001b[38;5;124mLink\u001b[39m\u001b[38;5;124m\"\u001b[39m])\n\u001b[0;32m      3\u001b[0m df\u001b[38;5;241m.\u001b[39mto_csv(\u001b[38;5;124m\"\u001b[39m\u001b[38;5;124mdaraz_laptops.csv\u001b[39m\u001b[38;5;124m\"\u001b[39m, index\u001b[38;5;241m=\u001b[39m\u001b[38;5;28;01mFalse\u001b[39;00m, encoding\u001b[38;5;241m=\u001b[39m\u001b[38;5;124m\"\u001b[39m\u001b[38;5;124mutf-8\u001b[39m\u001b[38;5;124m\"\u001b[39m)\n\u001b[0;32m      4\u001b[0m \u001b[38;5;28mprint\u001b[39m(\u001b[38;5;124mf\u001b[39m\u001b[38;5;124m\"\u001b[39m\u001b[38;5;124m✅ Scraping completed! Total \u001b[39m\u001b[38;5;132;01m{\u001b[39;00m\u001b[38;5;28mlen\u001b[39m(df)\u001b[38;5;132;01m}\u001b[39;00m\u001b[38;5;124m products saved across \u001b[39m\u001b[38;5;132;01m{\u001b[39;00mpage\u001b[38;5;132;01m}\u001b[39;00m\u001b[38;5;124m pages.\u001b[39m\u001b[38;5;124m\"\u001b[39m)\n",
      "\u001b[1;31mNameError\u001b[0m: name 'laptops' is not defined"
     ]
    }
   ],
   "source": [
    "# Save data\n",
    "df = pd.DataFrame(laptops, columns=[\"Name\", \"Price\", \"Image\", \"Link\"])\n",
    "df.to_csv(\"daraz_laptops.csv\", index=False, encoding=\"utf-8\")\n",
    "print(f\"✅ Scraping completed! Total {len(df)} products saved across {page} pages.\")"
   ]
  },
  {
   "cell_type": "code",
   "execution_count": null,
   "id": "b8ad4863",
   "metadata": {},
   "outputs": [
    {
     "data": {
      "application/vnd.microsoft.datawrangler.viewer.v0+json": {
       "columns": [
        {
         "name": "index",
         "rawType": "int64",
         "type": "integer"
        },
        {
         "name": "Name",
         "rawType": "object",
         "type": "string"
        },
        {
         "name": "Price",
         "rawType": "object",
         "type": "string"
        },
        {
         "name": "Image",
         "rawType": "object",
         "type": "string"
        },
        {
         "name": "Link",
         "rawType": "object",
         "type": "string"
        }
       ],
       "ref": "c9e551c4-8e16-4a62-8389-1fd9339f56f1",
       "rows": [
        [
         "0",
         "Dell 3180 Chromebook 11.6 inches HD screen, 4GB Ram 16GB SSD, HDMI, WiFi, Webcam, Chrome OS / Windows 10",
         "Rs. 8,899",
         "https://img.drz.lazcdn.com/static/pk/p/3a417f0b9a23ddad2b2f315dcb2eb311.jpg_200x200q80.avif",
         "https://www.daraz.pk/products/4gb-4gb-16gb-ssd-hdmi-wifi-os-10-i434350899.html"
        ],
        [
         "1",
         "Hp Chromebook 11 G6 EE | 4GB RAM DDR4 | 16GB SSD EMMC | Playstore supported | 11.6\" screen - Daraz Like New Laptops",
         "Rs. 7,914",
         "https://img.drz.lazcdn.com/static/pk/p/7528aef82be411f7eb921b86a7aaedd4.jpg_200x200q80.avif",
         "https://www.daraz.pk/products/hp-11-g6-ee-air-4gb-ddr4-air-16gb-ssd-emmc-116-i492080752.html"
        ],
        [
         "2",
         "Samsung Chromebook 500C - Celeron processor - 2gb Ram - 16GB SSD - 11.6\" screen - Playstore supported",
         "Rs. 7,200",
         "https://img.drz.lazcdn.com/static/pk/p/614d1368b39f256ad7c7f174c9b3e6e0.jpg_200x200q80.avif",
         "https://www.daraz.pk/products/samsung-chromebook-500c-celeron-processor-2gb-ram-16gb-ssd-116-screen-playstore-supported-i524222885.html"
        ],
        [
         "3",
         "HP Chromebook 11 G4 | 16GB Storage | 2GB RAM | 11.6″ Display | Playstore Supported Chromebook | Black - Daraz Like New Laptops",
         "Rs. 9,499",
         "https://img.drz.lazcdn.com/static/pk/p/cbc9b17018639eff585e39062e1c8a4d.png_200x200q80.avif",
         "https://www.daraz.pk/products/hp-chromebook-11-g4-16gb-storage-2gb-ram-116-display-playstore-supported-chromebook-black-daraz-like-new-laptops-i468636960.html"
        ],
        [
         "4",
         "Daraz Like New Laptops - Lenovo Chromebook 300E/500E X360 TOUCH SCREEN - 2027 UPDATE - Intel Celeron 4GB RAM 32GB Chrome OS",
         "Rs. 13,499",
         "https://img.drz.lazcdn.com/static/pk/p/370ec7e96fc482386820400244e04766.jpg_200x200q80.avif",
         "https://www.daraz.pk/products/300e-x360-2027-4gb-32gb-os-i583998700.html"
        ]
       ],
       "shape": {
        "columns": 4,
        "rows": 5
       }
      },
      "text/html": [
       "<div>\n",
       "<style scoped>\n",
       "    .dataframe tbody tr th:only-of-type {\n",
       "        vertical-align: middle;\n",
       "    }\n",
       "\n",
       "    .dataframe tbody tr th {\n",
       "        vertical-align: top;\n",
       "    }\n",
       "\n",
       "    .dataframe thead th {\n",
       "        text-align: right;\n",
       "    }\n",
       "</style>\n",
       "<table border=\"1\" class=\"dataframe\">\n",
       "  <thead>\n",
       "    <tr style=\"text-align: right;\">\n",
       "      <th></th>\n",
       "      <th>Name</th>\n",
       "      <th>Price</th>\n",
       "      <th>Image</th>\n",
       "      <th>Link</th>\n",
       "    </tr>\n",
       "  </thead>\n",
       "  <tbody>\n",
       "    <tr>\n",
       "      <th>0</th>\n",
       "      <td>Dell 3180 Chromebook 11.6 inches HD screen, 4G...</td>\n",
       "      <td>Rs. 8,899</td>\n",
       "      <td>https://img.drz.lazcdn.com/static/pk/p/3a417f0...</td>\n",
       "      <td>https://www.daraz.pk/products/4gb-4gb-16gb-ssd...</td>\n",
       "    </tr>\n",
       "    <tr>\n",
       "      <th>1</th>\n",
       "      <td>Hp Chromebook 11 G6 EE | 4GB RAM DDR4 | 16GB S...</td>\n",
       "      <td>Rs. 7,914</td>\n",
       "      <td>https://img.drz.lazcdn.com/static/pk/p/7528aef...</td>\n",
       "      <td>https://www.daraz.pk/products/hp-11-g6-ee-air-...</td>\n",
       "    </tr>\n",
       "    <tr>\n",
       "      <th>2</th>\n",
       "      <td>Samsung Chromebook 500C - Celeron processor - ...</td>\n",
       "      <td>Rs. 7,200</td>\n",
       "      <td>https://img.drz.lazcdn.com/static/pk/p/614d136...</td>\n",
       "      <td>https://www.daraz.pk/products/samsung-chromebo...</td>\n",
       "    </tr>\n",
       "    <tr>\n",
       "      <th>3</th>\n",
       "      <td>HP Chromebook 11 G4 | 16GB Storage | 2GB RAM |...</td>\n",
       "      <td>Rs. 9,499</td>\n",
       "      <td>https://img.drz.lazcdn.com/static/pk/p/cbc9b17...</td>\n",
       "      <td>https://www.daraz.pk/products/hp-chromebook-11...</td>\n",
       "    </tr>\n",
       "    <tr>\n",
       "      <th>4</th>\n",
       "      <td>Daraz Like New Laptops - Lenovo Chromebook 300...</td>\n",
       "      <td>Rs. 13,499</td>\n",
       "      <td>https://img.drz.lazcdn.com/static/pk/p/370ec7e...</td>\n",
       "      <td>https://www.daraz.pk/products/300e-x360-2027-4...</td>\n",
       "    </tr>\n",
       "  </tbody>\n",
       "</table>\n",
       "</div>"
      ],
      "text/plain": [
       "                                                Name       Price  \\\n",
       "0  Dell 3180 Chromebook 11.6 inches HD screen, 4G...   Rs. 8,899   \n",
       "1  Hp Chromebook 11 G6 EE | 4GB RAM DDR4 | 16GB S...   Rs. 7,914   \n",
       "2  Samsung Chromebook 500C - Celeron processor - ...   Rs. 7,200   \n",
       "3  HP Chromebook 11 G4 | 16GB Storage | 2GB RAM |...   Rs. 9,499   \n",
       "4  Daraz Like New Laptops - Lenovo Chromebook 300...  Rs. 13,499   \n",
       "\n",
       "                                               Image  \\\n",
       "0  https://img.drz.lazcdn.com/static/pk/p/3a417f0...   \n",
       "1  https://img.drz.lazcdn.com/static/pk/p/7528aef...   \n",
       "2  https://img.drz.lazcdn.com/static/pk/p/614d136...   \n",
       "3  https://img.drz.lazcdn.com/static/pk/p/cbc9b17...   \n",
       "4  https://img.drz.lazcdn.com/static/pk/p/370ec7e...   \n",
       "\n",
       "                                                Link  \n",
       "0  https://www.daraz.pk/products/4gb-4gb-16gb-ssd...  \n",
       "1  https://www.daraz.pk/products/hp-11-g6-ee-air-...  \n",
       "2  https://www.daraz.pk/products/samsung-chromebo...  \n",
       "3  https://www.daraz.pk/products/hp-chromebook-11...  \n",
       "4  https://www.daraz.pk/products/300e-x360-2027-4...  "
      ]
     },
     "execution_count": 6,
     "metadata": {},
     "output_type": "execute_result"
    }
   ],
   "source": [
    "df = pd.read_csv(\"daraz_laptops.csv\")\n",
    "df.head()"
   ]
  },
  {
   "cell_type": "code",
   "execution_count": 7,
   "id": "0eda77ce",
   "metadata": {},
   "outputs": [
    {
     "data": {
      "application/vnd.microsoft.datawrangler.viewer.v0+json": {
       "columns": [
        {
         "name": "index",
         "rawType": "object",
         "type": "string"
        },
        {
         "name": "0",
         "rawType": "int64",
         "type": "integer"
        }
       ],
       "ref": "a8426ec2-e632-44d7-b47b-20daf336c4c8",
       "rows": [
        [
         "Name",
         "0"
        ],
        [
         "Price",
         "0"
        ],
        [
         "Image",
         "0"
        ],
        [
         "Link",
         "0"
        ]
       ],
       "shape": {
        "columns": 1,
        "rows": 4
       }
      },
      "text/plain": [
       "Name     0\n",
       "Price    0\n",
       "Image    0\n",
       "Link     0\n",
       "dtype: int64"
      ]
     },
     "execution_count": 7,
     "metadata": {},
     "output_type": "execute_result"
    }
   ],
   "source": [
    "df.isnull().sum()"
   ]
  }
 ],
 "metadata": {
  "kernelspec": {
   "display_name": "DSML",
   "language": "python",
   "name": "python3"
  },
  "language_info": {
   "codemirror_mode": {
    "name": "ipython",
    "version": 3
   },
   "file_extension": ".py",
   "mimetype": "text/x-python",
   "name": "python",
   "nbconvert_exporter": "python",
   "pygments_lexer": "ipython3",
   "version": "3.9.18"
  }
 },
 "nbformat": 4,
 "nbformat_minor": 5
}
