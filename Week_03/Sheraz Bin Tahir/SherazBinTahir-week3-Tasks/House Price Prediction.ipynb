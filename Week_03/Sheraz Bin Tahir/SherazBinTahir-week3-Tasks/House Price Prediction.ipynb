{
 "cells": [
  {
   "cell_type": "markdown",
   "id": "d2fb001e",
   "metadata": {},
   "source": [
    "# ___House Price Prediction___"
   ]
  },
  {
   "cell_type": "code",
   "execution_count": null,
   "id": "b296c1d5",
   "metadata": {},
   "outputs": [],
   "source": [
    "import pandas as pd\n",
    "import numpy as np\n",
    "import matplotlib.pyplot as plt\n",
    "from sklearn.model_selection import train_test_split\n",
    "from sklearn.linear_model import LinearRegression\n",
    "from sklearn.metrics import mean_squared_error, r2_score"
   ]
  },
  {
   "cell_type": "code",
   "execution_count": 186,
   "id": "df855349",
   "metadata": {},
   "outputs": [
    {
     "name": "stdout",
     "output_type": "stream",
     "text": [
      "Dataset Shape: (545, 13)\n"
     ]
    },
    {
     "data": {
      "application/vnd.microsoft.datawrangler.viewer.v0+json": {
       "columns": [
        {
         "name": "index",
         "rawType": "int64",
         "type": "integer"
        },
        {
         "name": "price",
         "rawType": "int64",
         "type": "integer"
        },
        {
         "name": "area",
         "rawType": "int64",
         "type": "integer"
        },
        {
         "name": "bedrooms",
         "rawType": "int64",
         "type": "integer"
        },
        {
         "name": "bathrooms",
         "rawType": "int64",
         "type": "integer"
        },
        {
         "name": "stories",
         "rawType": "int64",
         "type": "integer"
        },
        {
         "name": "mainroad",
         "rawType": "object",
         "type": "string"
        },
        {
         "name": "guestroom",
         "rawType": "object",
         "type": "string"
        },
        {
         "name": "basement",
         "rawType": "object",
         "type": "string"
        },
        {
         "name": "hotwaterheating",
         "rawType": "object",
         "type": "string"
        },
        {
         "name": "airconditioning",
         "rawType": "object",
         "type": "string"
        },
        {
         "name": "parking",
         "rawType": "int64",
         "type": "integer"
        },
        {
         "name": "prefarea",
         "rawType": "object",
         "type": "string"
        },
        {
         "name": "furnishingstatus",
         "rawType": "object",
         "type": "string"
        }
       ],
       "ref": "dd508758-84d5-411e-8085-6e5bf977318c",
       "rows": [
        [
         "0",
         "13300000",
         "7420",
         "4",
         "2",
         "3",
         "yes",
         "no",
         "no",
         "no",
         "yes",
         "2",
         "yes",
         "furnished"
        ],
        [
         "1",
         "12250000",
         "8960",
         "4",
         "4",
         "4",
         "yes",
         "no",
         "no",
         "no",
         "yes",
         "3",
         "no",
         "furnished"
        ],
        [
         "2",
         "12250000",
         "9960",
         "3",
         "2",
         "2",
         "yes",
         "no",
         "yes",
         "no",
         "no",
         "2",
         "yes",
         "semi-furnished"
        ],
        [
         "3",
         "12215000",
         "7500",
         "4",
         "2",
         "2",
         "yes",
         "no",
         "yes",
         "no",
         "yes",
         "3",
         "yes",
         "furnished"
        ],
        [
         "4",
         "11410000",
         "7420",
         "4",
         "1",
         "2",
         "yes",
         "yes",
         "yes",
         "no",
         "yes",
         "2",
         "no",
         "furnished"
        ]
       ],
       "shape": {
        "columns": 13,
        "rows": 5
       }
      },
      "text/html": [
       "<div>\n",
       "<style scoped>\n",
       "    .dataframe tbody tr th:only-of-type {\n",
       "        vertical-align: middle;\n",
       "    }\n",
       "\n",
       "    .dataframe tbody tr th {\n",
       "        vertical-align: top;\n",
       "    }\n",
       "\n",
       "    .dataframe thead th {\n",
       "        text-align: right;\n",
       "    }\n",
       "</style>\n",
       "<table border=\"1\" class=\"dataframe\">\n",
       "  <thead>\n",
       "    <tr style=\"text-align: right;\">\n",
       "      <th></th>\n",
       "      <th>price</th>\n",
       "      <th>area</th>\n",
       "      <th>bedrooms</th>\n",
       "      <th>bathrooms</th>\n",
       "      <th>stories</th>\n",
       "      <th>mainroad</th>\n",
       "      <th>guestroom</th>\n",
       "      <th>basement</th>\n",
       "      <th>hotwaterheating</th>\n",
       "      <th>airconditioning</th>\n",
       "      <th>parking</th>\n",
       "      <th>prefarea</th>\n",
       "      <th>furnishingstatus</th>\n",
       "    </tr>\n",
       "  </thead>\n",
       "  <tbody>\n",
       "    <tr>\n",
       "      <th>0</th>\n",
       "      <td>13300000</td>\n",
       "      <td>7420</td>\n",
       "      <td>4</td>\n",
       "      <td>2</td>\n",
       "      <td>3</td>\n",
       "      <td>yes</td>\n",
       "      <td>no</td>\n",
       "      <td>no</td>\n",
       "      <td>no</td>\n",
       "      <td>yes</td>\n",
       "      <td>2</td>\n",
       "      <td>yes</td>\n",
       "      <td>furnished</td>\n",
       "    </tr>\n",
       "    <tr>\n",
       "      <th>1</th>\n",
       "      <td>12250000</td>\n",
       "      <td>8960</td>\n",
       "      <td>4</td>\n",
       "      <td>4</td>\n",
       "      <td>4</td>\n",
       "      <td>yes</td>\n",
       "      <td>no</td>\n",
       "      <td>no</td>\n",
       "      <td>no</td>\n",
       "      <td>yes</td>\n",
       "      <td>3</td>\n",
       "      <td>no</td>\n",
       "      <td>furnished</td>\n",
       "    </tr>\n",
       "    <tr>\n",
       "      <th>2</th>\n",
       "      <td>12250000</td>\n",
       "      <td>9960</td>\n",
       "      <td>3</td>\n",
       "      <td>2</td>\n",
       "      <td>2</td>\n",
       "      <td>yes</td>\n",
       "      <td>no</td>\n",
       "      <td>yes</td>\n",
       "      <td>no</td>\n",
       "      <td>no</td>\n",
       "      <td>2</td>\n",
       "      <td>yes</td>\n",
       "      <td>semi-furnished</td>\n",
       "    </tr>\n",
       "    <tr>\n",
       "      <th>3</th>\n",
       "      <td>12215000</td>\n",
       "      <td>7500</td>\n",
       "      <td>4</td>\n",
       "      <td>2</td>\n",
       "      <td>2</td>\n",
       "      <td>yes</td>\n",
       "      <td>no</td>\n",
       "      <td>yes</td>\n",
       "      <td>no</td>\n",
       "      <td>yes</td>\n",
       "      <td>3</td>\n",
       "      <td>yes</td>\n",
       "      <td>furnished</td>\n",
       "    </tr>\n",
       "    <tr>\n",
       "      <th>4</th>\n",
       "      <td>11410000</td>\n",
       "      <td>7420</td>\n",
       "      <td>4</td>\n",
       "      <td>1</td>\n",
       "      <td>2</td>\n",
       "      <td>yes</td>\n",
       "      <td>yes</td>\n",
       "      <td>yes</td>\n",
       "      <td>no</td>\n",
       "      <td>yes</td>\n",
       "      <td>2</td>\n",
       "      <td>no</td>\n",
       "      <td>furnished</td>\n",
       "    </tr>\n",
       "  </tbody>\n",
       "</table>\n",
       "</div>"
      ],
      "text/plain": [
       "      price  area  bedrooms  bathrooms  stories mainroad guestroom basement  \\\n",
       "0  13300000  7420         4          2        3      yes        no       no   \n",
       "1  12250000  8960         4          4        4      yes        no       no   \n",
       "2  12250000  9960         3          2        2      yes        no      yes   \n",
       "3  12215000  7500         4          2        2      yes        no      yes   \n",
       "4  11410000  7420         4          1        2      yes       yes      yes   \n",
       "\n",
       "  hotwaterheating airconditioning  parking prefarea furnishingstatus  \n",
       "0              no             yes        2      yes        furnished  \n",
       "1              no             yes        3       no        furnished  \n",
       "2              no              no        2      yes   semi-furnished  \n",
       "3              no             yes        3      yes        furnished  \n",
       "4              no             yes        2       no        furnished  "
      ]
     },
     "execution_count": 186,
     "metadata": {},
     "output_type": "execute_result"
    }
   ],
   "source": [
    "data = pd.read_csv(\"Housing.csv\")\n",
    "print(\"Dataset Shape:\", data.shape)\n",
    "data.head()"
   ]
  },
  {
   "cell_type": "code",
   "execution_count": 187,
   "id": "b362d254",
   "metadata": {},
   "outputs": [
    {
     "name": "stdout",
     "output_type": "stream",
     "text": [
      "<class 'pandas.core.frame.DataFrame'>\n",
      "RangeIndex: 545 entries, 0 to 544\n",
      "Data columns (total 13 columns):\n",
      " #   Column            Non-Null Count  Dtype \n",
      "---  ------            --------------  ----- \n",
      " 0   price             545 non-null    int64 \n",
      " 1   area              545 non-null    int64 \n",
      " 2   bedrooms          545 non-null    int64 \n",
      " 3   bathrooms         545 non-null    int64 \n",
      " 4   stories           545 non-null    int64 \n",
      " 5   mainroad          545 non-null    object\n",
      " 6   guestroom         545 non-null    object\n",
      " 7   basement          545 non-null    object\n",
      " 8   hotwaterheating   545 non-null    object\n",
      " 9   airconditioning   545 non-null    object\n",
      " 10  parking           545 non-null    int64 \n",
      " 11  prefarea          545 non-null    object\n",
      " 12  furnishingstatus  545 non-null    object\n",
      "dtypes: int64(6), object(7)\n",
      "memory usage: 55.5+ KB\n"
     ]
    }
   ],
   "source": [
    "data.info()"
   ]
  },
  {
   "cell_type": "code",
   "execution_count": 188,
   "id": "036b1306",
   "metadata": {},
   "outputs": [
    {
     "data": {
      "application/vnd.microsoft.datawrangler.viewer.v0+json": {
       "columns": [
        {
         "name": "index",
         "rawType": "object",
         "type": "string"
        },
        {
         "name": "0",
         "rawType": "int64",
         "type": "integer"
        }
       ],
       "ref": "8d524762-582f-4cd2-ae93-0a69cfb97bdf",
       "rows": [
        [
         "price",
         "0"
        ],
        [
         "area",
         "0"
        ],
        [
         "bedrooms",
         "0"
        ],
        [
         "bathrooms",
         "0"
        ],
        [
         "stories",
         "0"
        ],
        [
         "mainroad",
         "0"
        ],
        [
         "guestroom",
         "0"
        ],
        [
         "basement",
         "0"
        ],
        [
         "hotwaterheating",
         "0"
        ],
        [
         "airconditioning",
         "0"
        ],
        [
         "parking",
         "0"
        ],
        [
         "prefarea",
         "0"
        ],
        [
         "furnishingstatus",
         "0"
        ]
       ],
       "shape": {
        "columns": 1,
        "rows": 13
       }
      },
      "text/plain": [
       "price               0\n",
       "area                0\n",
       "bedrooms            0\n",
       "bathrooms           0\n",
       "stories             0\n",
       "mainroad            0\n",
       "guestroom           0\n",
       "basement            0\n",
       "hotwaterheating     0\n",
       "airconditioning     0\n",
       "parking             0\n",
       "prefarea            0\n",
       "furnishingstatus    0\n",
       "dtype: int64"
      ]
     },
     "execution_count": 188,
     "metadata": {},
     "output_type": "execute_result"
    }
   ],
   "source": [
    "data.isnull().sum()"
   ]
  },
  {
   "cell_type": "code",
   "execution_count": 189,
   "id": "5831ffaf",
   "metadata": {},
   "outputs": [
    {
     "data": {
      "text/plain": [
       "0"
      ]
     },
     "execution_count": 189,
     "metadata": {},
     "output_type": "execute_result"
    }
   ],
   "source": [
    "data.duplicated().sum()"
   ]
  },
  {
   "cell_type": "code",
   "execution_count": 190,
   "id": "bcd35bb9",
   "metadata": {},
   "outputs": [
    {
     "data": {
      "text/plain": [
       "<Axes: >"
      ]
     },
     "execution_count": 190,
     "metadata": {},
     "output_type": "execute_result"
    },
    {
     "data": {
      "image/png": "[encoded data removed]",
      "text/plain": [
       "<Figure size 640x480 with 1 Axes>"
      ]
     },
     "metadata": {},
     "output_type": "display_data"
    }
   ],
   "source": [
    "data.boxplot()"
   ]
  },
  {
   "cell_type": "code",
   "execution_count": 191,
   "id": "33ee76e2",
   "metadata": {},
   "outputs": [],
   "source": [
    "# removing outliers for price\n",
    "\n",
    "Q1 = data['price'].quantile(0.25)\n",
    "Q3 = data['price'].quantile(0.75)\n",
    "IQR = Q3 - Q1\n",
    "lower_bound = Q1 - 1.5 * IQR\n",
    "upper_bound = Q3 + 1.5 * IQR\n",
    "data = data[(data['price'] >= lower_bound) & (data['price'] <= upper_bound)]\n"
   ]
  },
  {
   "cell_type": "code",
   "execution_count": 192,
   "id": "93c9d276",
   "metadata": {},
   "outputs": [
    {
     "data": {
      "text/plain": [
       "<Axes: ylabel='price'>"
      ]
     },
     "execution_count": 192,
     "metadata": {},
     "output_type": "execute_result"
    },
    {
     "data": {
      "image/png": "[encoded data removed]",
      "text/plain": [
       "<Figure size 640x480 with 1 Axes>"
      ]
     },
     "metadata": {},
     "output_type": "display_data"
    }
   ],
   "source": [
    "sns.boxplot(data['price'])"
   ]
  },
  {
   "cell_type": "code",
   "execution_count": 193,
   "id": "4a9e3f73",
   "metadata": {},
   "outputs": [],
   "source": [
    "# removing outliers for Area\n",
    "\n",
    "Q1 = data['area'].quantile(0.25)\n",
    "Q3 = data['area'].quantile(0.75)\n",
    "IQR = Q3 - Q1\n",
    "lower_bound = Q1 - 1.5 * IQR\n",
    "upper_bound = Q3 + 1.5 * IQR\n",
    "data = data[(data['area'] >= lower_bound) & (data['area'] <= upper_bound)]\n"
   ]
  },
  {
   "cell_type": "code",
   "execution_count": 194,
   "id": "35dca140",
   "metadata": {},
   "outputs": [
    {
     "data": {
      "text/plain": [
       "<Axes: ylabel='price'>"
      ]
     },
     "execution_count": 194,
     "metadata": {},
     "output_type": "execute_result"
    },
    {
     "data": {
      "image/png": "[encoded data removed]",
      "text/plain": [
       "<Figure size 640x480 with 1 Axes>"
      ]
     },
     "metadata": {},
     "output_type": "display_data"
    }
   ],
   "source": [
    "sns.boxplot(data['price'])"
   ]
  },
  {
   "cell_type": "markdown",
   "id": "e6db5584",
   "metadata": {},
   "source": [
    "___Data Preprocessing___"
   ]
  },
  {
   "cell_type": "code",
   "execution_count": 195,
   "id": "1bcb5f07",
   "metadata": {},
   "outputs": [],
   "source": [
    "data_encoded = data.copy()"
   ]
  },
  {
   "cell_type": "code",
   "execution_count": 196,
   "id": "a47d5f10",
   "metadata": {},
   "outputs": [],
   "source": [
    "# Binary encoding\n",
    "binary_cols = ['mainroad','guestroom','basement','hotwaterheating','airconditioning','prefarea']\n",
    "for col in binary_cols:\n",
    "    data_encoded[col] = data_encoded[col].map({'yes':1, 'no':0})"
   ]
  },
  {
   "cell_type": "code",
   "execution_count": 197,
   "id": "fb2e9324",
   "metadata": {},
   "outputs": [
    {
     "data": {
      "application/vnd.microsoft.datawrangler.viewer.v0+json": {
       "columns": [
        {
         "name": "index",
         "rawType": "int64",
         "type": "integer"
        },
        {
         "name": "price",
         "rawType": "int64",
         "type": "integer"
        },
        {
         "name": "area",
         "rawType": "int64",
         "type": "integer"
        },
        {
         "name": "bedrooms",
         "rawType": "int64",
         "type": "integer"
        },
        {
         "name": "bathrooms",
         "rawType": "int64",
         "type": "integer"
        },
        {
         "name": "stories",
         "rawType": "int64",
         "type": "integer"
        },
        {
         "name": "mainroad",
         "rawType": "int64",
         "type": "integer"
        },
        {
         "name": "guestroom",
         "rawType": "int64",
         "type": "integer"
        },
        {
         "name": "basement",
         "rawType": "int64",
         "type": "integer"
        },
        {
         "name": "hotwaterheating",
         "rawType": "int64",
         "type": "integer"
        },
        {
         "name": "airconditioning",
         "rawType": "int64",
         "type": "integer"
        },
        {
         "name": "parking",
         "rawType": "int64",
         "type": "integer"
        },
        {
         "name": "prefarea",
         "rawType": "int64",
         "type": "integer"
        },
        {
         "name": "furnishingstatus_semi-furnished",
         "rawType": "bool",
         "type": "boolean"
        },
        {
         "name": "furnishingstatus_unfurnished",
         "rawType": "bool",
         "type": "boolean"
        }
       ],
       "ref": "b97865ac-8fed-4783-8a84-efec219acb83",
       "rows": [
        [
         "15",
         "9100000",
         "6000",
         "4",
         "1",
         "2",
         "1",
         "0",
         "1",
         "0",
         "0",
         "2",
         "0",
         "True",
         "False"
        ],
        [
         "16",
         "9100000",
         "6600",
         "4",
         "2",
         "2",
         "1",
         "1",
         "1",
         "0",
         "1",
         "1",
         "1",
         "False",
         "True"
        ],
        [
         "17",
         "8960000",
         "8500",
         "3",
         "2",
         "4",
         "1",
         "0",
         "0",
         "0",
         "1",
         "2",
         "0",
         "False",
         "False"
        ],
        [
         "18",
         "8890000",
         "4600",
         "3",
         "2",
         "2",
         "1",
         "1",
         "0",
         "0",
         "1",
         "2",
         "0",
         "False",
         "False"
        ],
        [
         "19",
         "8855000",
         "6420",
         "3",
         "2",
         "2",
         "1",
         "0",
         "0",
         "0",
         "1",
         "1",
         "1",
         "True",
         "False"
        ]
       ],
       "shape": {
        "columns": 14,
        "rows": 5
       }
      },
      "text/html": [
       "<div>\n",
       "<style scoped>\n",
       "    .dataframe tbody tr th:only-of-type {\n",
       "        vertical-align: middle;\n",
       "    }\n",
       "\n",
       "    .dataframe tbody tr th {\n",
       "        vertical-align: top;\n",
       "    }\n",
       "\n",
       "    .dataframe thead th {\n",
       "        text-align: right;\n",
       "    }\n",
       "</style>\n",
       "<table border=\"1\" class=\"dataframe\">\n",
       "  <thead>\n",
       "    <tr style=\"text-align: right;\">\n",
       "      <th></th>\n",
       "      <th>price</th>\n",
       "      <th>area</th>\n",
       "      <th>bedrooms</th>\n",
       "      <th>bathrooms</th>\n",
       "      <th>stories</th>\n",
       "      <th>mainroad</th>\n",
       "      <th>guestroom</th>\n",
       "      <th>basement</th>\n",
       "      <th>hotwaterheating</th>\n",
       "      <th>airconditioning</th>\n",
       "      <th>parking</th>\n",
       "      <th>prefarea</th>\n",
       "      <th>furnishingstatus_semi-furnished</th>\n",
       "      <th>furnishingstatus_unfurnished</th>\n",
       "    </tr>\n",
       "  </thead>\n",
       "  <tbody>\n",
       "    <tr>\n",
       "      <th>15</th>\n",
       "      <td>9100000</td>\n",
       "      <td>6000</td>\n",
       "      <td>4</td>\n",
       "      <td>1</td>\n",
       "      <td>2</td>\n",
       "      <td>1</td>\n",
       "      <td>0</td>\n",
       "      <td>1</td>\n",
       "      <td>0</td>\n",
       "      <td>0</td>\n",
       "      <td>2</td>\n",
       "      <td>0</td>\n",
       "      <td>True</td>\n",
       "      <td>False</td>\n",
       "    </tr>\n",
       "    <tr>\n",
       "      <th>16</th>\n",
       "      <td>9100000</td>\n",
       "      <td>6600</td>\n",
       "      <td>4</td>\n",
       "      <td>2</td>\n",
       "      <td>2</td>\n",
       "      <td>1</td>\n",
       "      <td>1</td>\n",
       "      <td>1</td>\n",
       "      <td>0</td>\n",
       "      <td>1</td>\n",
       "      <td>1</td>\n",
       "      <td>1</td>\n",
       "      <td>False</td>\n",
       "      <td>True</td>\n",
       "    </tr>\n",
       "    <tr>\n",
       "      <th>17</th>\n",
       "      <td>8960000</td>\n",
       "      <td>8500</td>\n",
       "      <td>3</td>\n",
       "      <td>2</td>\n",
       "      <td>4</td>\n",
       "      <td>1</td>\n",
       "      <td>0</td>\n",
       "      <td>0</td>\n",
       "      <td>0</td>\n",
       "      <td>1</td>\n",
       "      <td>2</td>\n",
       "      <td>0</td>\n",
       "      <td>False</td>\n",
       "      <td>False</td>\n",
       "    </tr>\n",
       "    <tr>\n",
       "      <th>18</th>\n",
       "      <td>8890000</td>\n",
       "      <td>4600</td>\n",
       "      <td>3</td>\n",
       "      <td>2</td>\n",
       "      <td>2</td>\n",
       "      <td>1</td>\n",
       "      <td>1</td>\n",
       "      <td>0</td>\n",
       "      <td>0</td>\n",
       "      <td>1</td>\n",
       "      <td>2</td>\n",
       "      <td>0</td>\n",
       "      <td>False</td>\n",
       "      <td>False</td>\n",
       "    </tr>\n",
       "    <tr>\n",
       "      <th>19</th>\n",
       "      <td>8855000</td>\n",
       "      <td>6420</td>\n",
       "      <td>3</td>\n",
       "      <td>2</td>\n",
       "      <td>2</td>\n",
       "      <td>1</td>\n",
       "      <td>0</td>\n",
       "      <td>0</td>\n",
       "      <td>0</td>\n",
       "      <td>1</td>\n",
       "      <td>1</td>\n",
       "      <td>1</td>\n",
       "      <td>True</td>\n",
       "      <td>False</td>\n",
       "    </tr>\n",
       "  </tbody>\n",
       "</table>\n",
       "</div>"
      ],
      "text/plain": [
       "      price  area  bedrooms  bathrooms  stories  mainroad  guestroom  \\\n",
       "15  9100000  6000         4          1        2         1          0   \n",
       "16  9100000  6600         4          2        2         1          1   \n",
       "17  8960000  8500         3          2        4         1          0   \n",
       "18  8890000  4600         3          2        2         1          1   \n",
       "19  8855000  6420         3          2        2         1          0   \n",
       "\n",
       "    basement  hotwaterheating  airconditioning  parking  prefarea  \\\n",
       "15         1                0                0        2         0   \n",
       "16         1                0                1        1         1   \n",
       "17         0                0                1        2         0   \n",
       "18         0                0                1        2         0   \n",
       "19         0                0                1        1         1   \n",
       "\n",
       "    furnishingstatus_semi-furnished  furnishingstatus_unfurnished  \n",
       "15                             True                         False  \n",
       "16                            False                          True  \n",
       "17                            False                         False  \n",
       "18                            False                         False  \n",
       "19                             True                         False  "
      ]
     },
     "execution_count": 197,
     "metadata": {},
     "output_type": "execute_result"
    }
   ],
   "source": [
    "# One-hot encoding for furnishingstatus\n",
    "data_encoded = pd.get_dummies(data_encoded, columns=['furnishingstatus'], drop_first=True)\n",
    "\n",
    "data_encoded.head()"
   ]
  },
  {
   "cell_type": "code",
   "execution_count": 198,
   "id": "981e84fa",
   "metadata": {},
   "outputs": [],
   "source": [
    "# Features and target\n",
    "X = data_encoded.drop(\"price\", axis=1)\n",
    "y = data_encoded[\"price\"]"
   ]
  },
  {
   "cell_type": "code",
   "execution_count": 199,
   "id": "5cead979",
   "metadata": {},
   "outputs": [],
   "source": [
    "# Normalize features (for gradient descent stability)\n",
    "X = (X - X.mean()) / X.std()"
   ]
  },
  {
   "cell_type": "code",
   "execution_count": 200,
   "id": "1f2c11d8",
   "metadata": {},
   "outputs": [
    {
     "data": {
      "application/vnd.microsoft.datawrangler.viewer.v0+json": {
       "columns": [
        {
         "name": "index",
         "rawType": "int64",
         "type": "integer"
        },
        {
         "name": "bias",
         "rawType": "int64",
         "type": "integer"
        },
        {
         "name": "area",
         "rawType": "float64",
         "type": "float"
        },
        {
         "name": "bedrooms",
         "rawType": "float64",
         "type": "float"
        },
        {
         "name": "bathrooms",
         "rawType": "float64",
         "type": "float"
        },
        {
         "name": "stories",
         "rawType": "float64",
         "type": "float"
        },
        {
         "name": "mainroad",
         "rawType": "float64",
         "type": "float"
        },
        {
         "name": "guestroom",
         "rawType": "float64",
         "type": "float"
        },
        {
         "name": "basement",
         "rawType": "float64",
         "type": "float"
        },
        {
         "name": "hotwaterheating",
         "rawType": "float64",
         "type": "float"
        },
        {
         "name": "airconditioning",
         "rawType": "float64",
         "type": "float"
        },
        {
         "name": "parking",
         "rawType": "float64",
         "type": "float"
        },
        {
         "name": "prefarea",
         "rawType": "float64",
         "type": "float"
        },
        {
         "name": "furnishingstatus_semi-furnished",
         "rawType": "float64",
         "type": "float"
        },
        {
         "name": "furnishingstatus_unfurnished",
         "rawType": "float64",
         "type": "float"
        }
       ],
       "ref": "37319940-37bf-4e13-a65e-b0428aeaa828",
       "rows": [
        [
         "15",
         "1",
         "0.6238244509942938",
         "1.4459832721906751",
         "-0.5611088637196029",
         "0.23697166069972675",
         "0.4179252429610604",
         "-0.4648138154526121",
         "1.3728130973379404",
         "-0.2106145256173741",
         "-0.6657890192093118",
         "1.5962306212643016",
         "-0.5253649303587558",
         "1.184033038380597",
         "-0.7146370867799617"
        ],
        [
         "16",
         "1",
         "0.9610597653965739",
         "1.4459832721906751",
         "1.5877302662288026",
         "0.23697166069972675",
         "0.4179252429610604",
         "2.1472377344278275",
         "1.3728130973379404",
         "-0.2106145256173741",
         "1.4990721313014694",
         "0.4105248293194109",
         "1.899757114243715",
         "-0.8429374279861868",
         "1.3966050495928395"
        ],
        [
         "17",
         "1",
         "2.0289715943371274",
         "0.07930438421521095",
         "1.5877302662288026",
         "2.5485631433744205",
         "0.4179252429610604",
         "-0.4648138154526121",
         "-0.7270223207795603",
         "-0.2106145256173741",
         "1.4990721313014694",
         "1.5962306212643016",
         "-0.5253649303587558",
         "-0.8429374279861868",
         "-0.7146370867799617"
        ],
        [
         "18",
         "1",
         "-0.16305794927769293",
         "0.07930438421521095",
         "1.5877302662288026",
         "0.23697166069972675",
         "0.4179252429610604",
         "2.1472377344278275",
         "-0.7270223207795603",
         "-0.2106145256173741",
         "1.4990721313014694",
         "1.5962306212643016",
         "-0.5253649303587558",
         "-0.8429374279861868",
         "-0.7146370867799617"
        ],
        [
         "19",
         "1",
         "0.8598891710758899",
         "0.07930438421521095",
         "1.5877302662288026",
         "0.23697166069972675",
         "0.4179252429610604",
         "-0.4648138154526121",
         "-0.7270223207795603",
         "-0.2106145256173741",
         "1.4990721313014694",
         "0.4105248293194109",
         "1.899757114243715",
         "1.184033038380597",
         "-0.7146370867799617"
        ]
       ],
       "shape": {
        "columns": 14,
        "rows": 5
       }
      },
      "text/html": [
       "<div>\n",
       "<style scoped>\n",
       "    .dataframe tbody tr th:only-of-type {\n",
       "        vertical-align: middle;\n",
       "    }\n",
       "\n",
       "    .dataframe tbody tr th {\n",
       "        vertical-align: top;\n",
       "    }\n",
       "\n",
       "    .dataframe thead th {\n",
       "        text-align: right;\n",
       "    }\n",
       "</style>\n",
       "<table border=\"1\" class=\"dataframe\">\n",
       "  <thead>\n",
       "    <tr style=\"text-align: right;\">\n",
       "      <th></th>\n",
       "      <th>bias</th>\n",
       "      <th>area</th>\n",
       "      <th>bedrooms</th>\n",
       "      <th>bathrooms</th>\n",
       "      <th>stories</th>\n",
       "      <th>mainroad</th>\n",
       "      <th>guestroom</th>\n",
       "      <th>basement</th>\n",
       "      <th>hotwaterheating</th>\n",
       "      <th>airconditioning</th>\n",
       "      <th>parking</th>\n",
       "      <th>prefarea</th>\n",
       "      <th>furnishingstatus_semi-furnished</th>\n",
       "      <th>furnishingstatus_unfurnished</th>\n",
       "    </tr>\n",
       "  </thead>\n",
       "  <tbody>\n",
       "    <tr>\n",
       "      <th>15</th>\n",
       "      <td>1</td>\n",
       "      <td>0.623824</td>\n",
       "      <td>1.445983</td>\n",
       "      <td>-0.561109</td>\n",
       "      <td>0.236972</td>\n",
       "      <td>0.417925</td>\n",
       "      <td>-0.464814</td>\n",
       "      <td>1.372813</td>\n",
       "      <td>-0.210615</td>\n",
       "      <td>-0.665789</td>\n",
       "      <td>1.596231</td>\n",
       "      <td>-0.525365</td>\n",
       "      <td>1.184033</td>\n",
       "      <td>-0.714637</td>\n",
       "    </tr>\n",
       "    <tr>\n",
       "      <th>16</th>\n",
       "      <td>1</td>\n",
       "      <td>0.961060</td>\n",
       "      <td>1.445983</td>\n",
       "      <td>1.587730</td>\n",
       "      <td>0.236972</td>\n",
       "      <td>0.417925</td>\n",
       "      <td>2.147238</td>\n",
       "      <td>1.372813</td>\n",
       "      <td>-0.210615</td>\n",
       "      <td>1.499072</td>\n",
       "      <td>0.410525</td>\n",
       "      <td>1.899757</td>\n",
       "      <td>-0.842937</td>\n",
       "      <td>1.396605</td>\n",
       "    </tr>\n",
       "    <tr>\n",
       "      <th>17</th>\n",
       "      <td>1</td>\n",
       "      <td>2.028972</td>\n",
       "      <td>0.079304</td>\n",
       "      <td>1.587730</td>\n",
       "      <td>2.548563</td>\n",
       "      <td>0.417925</td>\n",
       "      <td>-0.464814</td>\n",
       "      <td>-0.727022</td>\n",
       "      <td>-0.210615</td>\n",
       "      <td>1.499072</td>\n",
       "      <td>1.596231</td>\n",
       "      <td>-0.525365</td>\n",
       "      <td>-0.842937</td>\n",
       "      <td>-0.714637</td>\n",
       "    </tr>\n",
       "    <tr>\n",
       "      <th>18</th>\n",
       "      <td>1</td>\n",
       "      <td>-0.163058</td>\n",
       "      <td>0.079304</td>\n",
       "      <td>1.587730</td>\n",
       "      <td>0.236972</td>\n",
       "      <td>0.417925</td>\n",
       "      <td>2.147238</td>\n",
       "      <td>-0.727022</td>\n",
       "      <td>-0.210615</td>\n",
       "      <td>1.499072</td>\n",
       "      <td>1.596231</td>\n",
       "      <td>-0.525365</td>\n",
       "      <td>-0.842937</td>\n",
       "      <td>-0.714637</td>\n",
       "    </tr>\n",
       "    <tr>\n",
       "      <th>19</th>\n",
       "      <td>1</td>\n",
       "      <td>0.859889</td>\n",
       "      <td>0.079304</td>\n",
       "      <td>1.587730</td>\n",
       "      <td>0.236972</td>\n",
       "      <td>0.417925</td>\n",
       "      <td>-0.464814</td>\n",
       "      <td>-0.727022</td>\n",
       "      <td>-0.210615</td>\n",
       "      <td>1.499072</td>\n",
       "      <td>0.410525</td>\n",
       "      <td>1.899757</td>\n",
       "      <td>1.184033</td>\n",
       "      <td>-0.714637</td>\n",
       "    </tr>\n",
       "  </tbody>\n",
       "</table>\n",
       "</div>"
      ],
      "text/plain": [
       "    bias      area  bedrooms  bathrooms   stories  mainroad  guestroom  \\\n",
       "15     1  0.623824  1.445983  -0.561109  0.236972  0.417925  -0.464814   \n",
       "16     1  0.961060  1.445983   1.587730  0.236972  0.417925   2.147238   \n",
       "17     1  2.028972  0.079304   1.587730  2.548563  0.417925  -0.464814   \n",
       "18     1 -0.163058  0.079304   1.587730  0.236972  0.417925   2.147238   \n",
       "19     1  0.859889  0.079304   1.587730  0.236972  0.417925  -0.464814   \n",
       "\n",
       "    basement  hotwaterheating  airconditioning   parking  prefarea  \\\n",
       "15  1.372813        -0.210615        -0.665789  1.596231 -0.525365   \n",
       "16  1.372813        -0.210615         1.499072  0.410525  1.899757   \n",
       "17 -0.727022        -0.210615         1.499072  1.596231 -0.525365   \n",
       "18 -0.727022        -0.210615         1.499072  1.596231 -0.525365   \n",
       "19 -0.727022        -0.210615         1.499072  0.410525  1.899757   \n",
       "\n",
       "    furnishingstatus_semi-furnished  furnishingstatus_unfurnished  \n",
       "15                         1.184033                     -0.714637  \n",
       "16                        -0.842937                      1.396605  \n",
       "17                        -0.842937                     -0.714637  \n",
       "18                        -0.842937                     -0.714637  \n",
       "19                         1.184033                     -0.714637  "
      ]
     },
     "execution_count": 200,
     "metadata": {},
     "output_type": "execute_result"
    }
   ],
   "source": [
    "# Add bias term (column of ones)\n",
    "X.insert(0, \"bias\", 1)\n",
    "\n",
    "X.head()"
   ]
  },
  {
   "cell_type": "markdown",
   "id": "d42c98eb",
   "metadata": {},
   "source": [
    "___Linear Regression (Gradient Descent)___"
   ]
  },
  {
   "cell_type": "code",
   "execution_count": 201,
   "id": "3ee23524",
   "metadata": {},
   "outputs": [],
   "source": [
    "def compute_cost(X, y, theta):\n",
    "    m = len(y)\n",
    "    predictions = X.dot(theta)\n",
    "    cost = (1/(2*m)) * np.sum((predictions - y)**2)\n",
    "    return cost"
   ]
  },
  {
   "cell_type": "code",
   "execution_count": 202,
   "id": "8812310b",
   "metadata": {},
   "outputs": [],
   "source": [
    "def gradient_descent(X, y, theta, learning_rate, iterations):\n",
    "    m = len(y)\n",
    "    cost_history = []\n",
    "    \n",
    "    for _ in range(iterations):\n",
    "        predictions = X.dot(theta)\n",
    "        errors = predictions - y\n",
    "        theta -= (learning_rate/m) * (X.T.dot(errors))\n",
    "        cost_history.append(compute_cost(X, y, theta))\n",
    "    return theta, cost_history"
   ]
  },
  {
   "cell_type": "code",
   "execution_count": 203,
   "id": "9856d01e",
   "metadata": {},
   "outputs": [],
   "source": [
    "# Convert to numpy\n",
    "X_np = X.values\n",
    "y_np = y.values.reshape(-1,1)\n",
    "\n",
    "# Initialize theta (weights)\n",
    "theta = np.zeros((X_np.shape[1],1))"
   ]
  },
  {
   "cell_type": "code",
   "execution_count": 204,
   "id": "846f5a61",
   "metadata": {},
   "outputs": [
    {
     "name": "stdout",
     "output_type": "stream",
     "text": [
      "Final Theta (weights):\n",
      " [[4538853.48766174]\n",
      " [ 431056.37424188]\n",
      " [  71252.42656245]\n",
      " [ 359491.70757131]\n",
      " [ 383113.82939763]]\n",
      "Final Cost: 425963195547.8457\n"
     ]
    }
   ],
   "source": [
    "# Run gradient descent\n",
    "theta_final, cost_history = gradient_descent(X_np, y_np, theta, learning_rate=0.01, iterations=500)\n",
    "\n",
    "print(\"Final Theta (weights):\\n\", theta_final[:5])  # showing first few\n",
    "print(\"Final Cost:\", cost_history[-1])"
   ]
  },
  {
   "cell_type": "markdown",
   "id": "dcb325f4",
   "metadata": {},
   "source": [
    "____Plot Cost Convergence____"
   ]
  },
  {
   "cell_type": "code",
   "execution_count": 206,
   "id": "be7568d6",
   "metadata": {},
   "outputs": [
    {
     "data": {
      "image/png": "[encoded data removed]",
      "text/plain": [
       "<Figure size 640x480 with 1 Axes>"
      ]
     },
     "metadata": {},
     "output_type": "display_data"
    }
   ],
   "source": [
    "plt.plot(range(len(cost_history)), cost_history, color='blue')\n",
    "plt.xlabel(\"Iterations\")\n",
    "plt.ylabel(\"Cost (MSE)\")\n",
    "plt.title(\"Cost Convergence in Gradient Descent\")\n",
    "plt.show()"
   ]
  },
  {
   "cell_type": "markdown",
   "id": "6075ce68",
   "metadata": {},
   "source": [
    "___Comparison with Sklearn___"
   ]
  },
  {
   "cell_type": "code",
   "execution_count": null,
   "id": "1ce55a1f",
   "metadata": {},
   "outputs": [],
   "source": [
    "# Train-test split\n",
    "X_train, X_test, y_train, y_test = train_test_split(X.drop(\"bias\", axis=1), y, test_size=0.2, random_state=42)\n",
    "\n",
    "# Sklearn Linear Regression\n",
    "lin_reg = LinearRegression()\n",
    "lin_reg.fit(X_train, y_train)\n",
    "\n",
    "# Predictions\n",
    "y_pred = lin_reg.predict(X_test)"
   ]
  },
  {
   "cell_type": "code",
   "execution_count": 208,
   "id": "97898e97",
   "metadata": {},
   "outputs": [
    {
     "name": "stdout",
     "output_type": "stream",
     "text": [
      "Sklearn MSE: 954173744480.8947\n",
      "Sklearn R2 Score: 0.674767344781106\n"
     ]
    }
   ],
   "source": [
    "# Evaluation\n",
    "print(\"Sklearn MSE:\", mean_squared_error(y_test, y_pred))\n",
    "print(\"Sklearn R2 Score:\", r2_score(y_test, y_pred))"
   ]
  }
 ],
 "metadata": {
  "kernelspec": {
   "display_name": "DSML",
   "language": "python",
   "name": "python3"
  },
  "language_info": {
   "codemirror_mode": {
    "name": "ipython",
    "version": 3
   },
   "file_extension": ".py",
   "mimetype": "text/x-python",
   "name": "python",
   "nbconvert_exporter": "python",
   "pygments_lexer": "ipython3",
   "version": "3.9.18"
  }
 },
 "nbformat": 4,
 "nbformat_minor": 5
}
