{
 "cells": [
  {
   "cell_type": "markdown",
   "id": "e4723673",
   "metadata": {},
   "source": [
    "House Price Prediction using Linear Regression:\n",
    "\n",
    " > Data Collection\n",
    "\n",
    " > Data Preprocessing\n",
    "\n",
    " > Feature Engineering\n",
    "\n",
    " > Model Selection\n",
    "\n",
    " > Model Training\n",
    "\n",
    " > Model Evaluatione\n",
    "\n",
    " > Model Prediction\n"
   ]
  },
  {
   "cell_type": "code",
   "execution_count": 37,
   "id": "331b9870",
   "metadata": {},
   "outputs": [],
   "source": [
    "import pandas as pd\n",
    "import numpy as np\n",
    "import matplotlib.pyplot as plt\n",
    "%matplotlib inline\n",
    "from sklearn.model_selection import train_test_split, cross_val_score\n",
    "from sklearn.preprocessing import OneHotEncoder, StandardScaler\n",
    "from sklearn.compose import ColumnTransformer\n",
    "from sklearn.pipeline import Pipeline\n",
    "from sklearn.metrics import mean_squared_error, mean_absolute_error, r2_score\n",
    "\n",
    "from sklearn.linear_model import LinearRegression\n",
    "from sklearn.ensemble import RandomForestRegressor\n",
    "from xgboost import XGBRegressor"
   ]
  },
  {
   "cell_type": "code",
   "execution_count": 38,
   "id": "ecd6c2fd",
   "metadata": {},
   "outputs": [
    {
     "data": {
      "text/html": [
       "<div>\n",
       "<style scoped>\n",
       "    .dataframe tbody tr th:only-of-type {\n",
       "        vertical-align: middle;\n",
       "    }\n",
       "\n",
       "    .dataframe tbody tr th {\n",
       "        vertical-align: top;\n",
       "    }\n",
       "\n",
       "    .dataframe thead th {\n",
       "        text-align: right;\n",
       "    }\n",
       "</style>\n",
       "<table border=\"1\" class=\"dataframe\">\n",
       "  <thead>\n",
       "    <tr style=\"text-align: right;\">\n",
       "      <th></th>\n",
       "      <th>Unnamed: 0</th>\n",
       "      <th>title</th>\n",
       "      <th>location</th>\n",
       "      <th>price(L)</th>\n",
       "      <th>rate_persqft</th>\n",
       "      <th>area_insqft</th>\n",
       "      <th>building_status</th>\n",
       "    </tr>\n",
       "  </thead>\n",
       "  <tbody>\n",
       "    <tr>\n",
       "      <th>0</th>\n",
       "      <td>0</td>\n",
       "      <td>3 BHK Apartment</td>\n",
       "      <td>Nizampet</td>\n",
       "      <td>108.00</td>\n",
       "      <td>6000</td>\n",
       "      <td>1805</td>\n",
       "      <td>Under Construction</td>\n",
       "    </tr>\n",
       "    <tr>\n",
       "      <th>1</th>\n",
       "      <td>1</td>\n",
       "      <td>3 BHK Apartment</td>\n",
       "      <td>Bachupally</td>\n",
       "      <td>85.80</td>\n",
       "      <td>5500</td>\n",
       "      <td>1560</td>\n",
       "      <td>Under Construction</td>\n",
       "    </tr>\n",
       "    <tr>\n",
       "      <th>2</th>\n",
       "      <td>2</td>\n",
       "      <td>2 BHK Apartment</td>\n",
       "      <td>Dundigal</td>\n",
       "      <td>55.64</td>\n",
       "      <td>5200</td>\n",
       "      <td>1070</td>\n",
       "      <td>Under Construction</td>\n",
       "    </tr>\n",
       "    <tr>\n",
       "      <th>3</th>\n",
       "      <td>3</td>\n",
       "      <td>2 BHK Apartment</td>\n",
       "      <td>Pocharam</td>\n",
       "      <td>60.48</td>\n",
       "      <td>4999</td>\n",
       "      <td>1210</td>\n",
       "      <td>Under Construction</td>\n",
       "    </tr>\n",
       "    <tr>\n",
       "      <th>4</th>\n",
       "      <td>4</td>\n",
       "      <td>3 BHK Apartment</td>\n",
       "      <td>Kollur</td>\n",
       "      <td>113.00</td>\n",
       "      <td>5999</td>\n",
       "      <td>1900</td>\n",
       "      <td>Under Construction</td>\n",
       "    </tr>\n",
       "  </tbody>\n",
       "</table>\n",
       "</div>"
      ],
      "text/plain": [
       "   Unnamed: 0            title    location  price(L)  rate_persqft  \\\n",
       "0           0  3 BHK Apartment    Nizampet    108.00          6000   \n",
       "1           1  3 BHK Apartment  Bachupally     85.80          5500   \n",
       "2           2  2 BHK Apartment    Dundigal     55.64          5200   \n",
       "3           3  2 BHK Apartment    Pocharam     60.48          4999   \n",
       "4           4  3 BHK Apartment      Kollur    113.00          5999   \n",
       "\n",
       "   area_insqft     building_status  \n",
       "0         1805  Under Construction  \n",
       "1         1560  Under Construction  \n",
       "2         1070  Under Construction  \n",
       "3         1210  Under Construction  \n",
       "4         1900  Under Construction  "
      ]
     },
     "execution_count": 38,
     "metadata": {},
     "output_type": "execute_result"
    }
   ],
   "source": [
    "# Load the dataset\n",
    "df = pd.read_csv('D:\\dsmlai\\BuildAbles\\Week_3\\Hyderbad_House_price.csv')\n",
    "df.head()\n"
   ]
  },
  {
   "cell_type": "code",
   "execution_count": 39,
   "id": "4970a3b2",
   "metadata": {},
   "outputs": [
    {
     "name": "stdout",
     "output_type": "stream",
     "text": [
      "<class 'pandas.core.frame.DataFrame'>\n",
      "RangeIndex: 3660 entries, 0 to 3659\n",
      "Data columns (total 7 columns):\n",
      " #   Column           Non-Null Count  Dtype  \n",
      "---  ------           --------------  -----  \n",
      " 0   Unnamed: 0       3660 non-null   int64  \n",
      " 1   title            3660 non-null   object \n",
      " 2   location         3660 non-null   object \n",
      " 3   price(L)         3660 non-null   float64\n",
      " 4   rate_persqft     3660 non-null   int64  \n",
      " 5   area_insqft      3660 non-null   int64  \n",
      " 6   building_status  3660 non-null   object \n",
      "dtypes: float64(1), int64(3), object(3)\n",
      "memory usage: 200.3+ KB\n"
     ]
    }
   ],
   "source": [
    "df.info()"
   ]
  },
  {
   "cell_type": "code",
   "execution_count": 44,
   "id": "defbcb91",
   "metadata": {},
   "outputs": [
    {
     "data": {
      "text/plain": [
       "Index(['location', 'price(L)', 'rate_persqft', 'area_insqft',\n",
       "       'building_status', 'bhk'],\n",
       "      dtype='object')"
      ]
     },
     "execution_count": 44,
     "metadata": {},
     "output_type": "execute_result"
    }
   ],
   "source": [
    "df.columns"
   ]
  },
  {
   "cell_type": "code",
   "execution_count": 40,
   "id": "2a07bcd0",
   "metadata": {},
   "outputs": [
    {
     "data": {
      "text/html": [
       "<div>\n",
       "<style scoped>\n",
       "    .dataframe tbody tr th:only-of-type {\n",
       "        vertical-align: middle;\n",
       "    }\n",
       "\n",
       "    .dataframe tbody tr th {\n",
       "        vertical-align: top;\n",
       "    }\n",
       "\n",
       "    .dataframe thead th {\n",
       "        text-align: right;\n",
       "    }\n",
       "</style>\n",
       "<table border=\"1\" class=\"dataframe\">\n",
       "  <thead>\n",
       "    <tr style=\"text-align: right;\">\n",
       "      <th></th>\n",
       "      <th>Unnamed: 0</th>\n",
       "      <th>price(L)</th>\n",
       "      <th>rate_persqft</th>\n",
       "      <th>area_insqft</th>\n",
       "    </tr>\n",
       "  </thead>\n",
       "  <tbody>\n",
       "    <tr>\n",
       "      <th>count</th>\n",
       "      <td>3660.00000</td>\n",
       "      <td>3660.000000</td>\n",
       "      <td>3660.000000</td>\n",
       "      <td>3660.000000</td>\n",
       "    </tr>\n",
       "    <tr>\n",
       "      <th>mean</th>\n",
       "      <td>1829.50000</td>\n",
       "      <td>109.624350</td>\n",
       "      <td>5165.003005</td>\n",
       "      <td>2023.506284</td>\n",
       "    </tr>\n",
       "    <tr>\n",
       "      <th>std</th>\n",
       "      <td>1056.69532</td>\n",
       "      <td>197.596948</td>\n",
       "      <td>5316.490320</td>\n",
       "      <td>1829.832163</td>\n",
       "    </tr>\n",
       "    <tr>\n",
       "      <th>min</th>\n",
       "      <td>0.00000</td>\n",
       "      <td>1.320000</td>\n",
       "      <td>125.000000</td>\n",
       "      <td>118.000000</td>\n",
       "    </tr>\n",
       "    <tr>\n",
       "      <th>25%</th>\n",
       "      <td>914.75000</td>\n",
       "      <td>26.137500</td>\n",
       "      <td>1555.000000</td>\n",
       "      <td>1280.000000</td>\n",
       "    </tr>\n",
       "    <tr>\n",
       "      <th>50%</th>\n",
       "      <td>1829.50000</td>\n",
       "      <td>61.130000</td>\n",
       "      <td>4703.000000</td>\n",
       "      <td>1620.000000</td>\n",
       "    </tr>\n",
       "    <tr>\n",
       "      <th>75%</th>\n",
       "      <td>2744.25000</td>\n",
       "      <td>116.000000</td>\n",
       "      <td>6800.000000</td>\n",
       "      <td>2080.000000</td>\n",
       "    </tr>\n",
       "    <tr>\n",
       "      <th>max</th>\n",
       "      <td>3659.00000</td>\n",
       "      <td>3600.000000</td>\n",
       "      <td>112474.000000</td>\n",
       "      <td>45000.000000</td>\n",
       "    </tr>\n",
       "  </tbody>\n",
       "</table>\n",
       "</div>"
      ],
      "text/plain": [
       "       Unnamed: 0     price(L)   rate_persqft   area_insqft\n",
       "count  3660.00000  3660.000000    3660.000000   3660.000000\n",
       "mean   1829.50000   109.624350    5165.003005   2023.506284\n",
       "std    1056.69532   197.596948    5316.490320   1829.832163\n",
       "min       0.00000     1.320000     125.000000    118.000000\n",
       "25%     914.75000    26.137500    1555.000000   1280.000000\n",
       "50%    1829.50000    61.130000    4703.000000   1620.000000\n",
       "75%    2744.25000   116.000000    6800.000000   2080.000000\n",
       "max    3659.00000  3600.000000  112474.000000  45000.000000"
      ]
     },
     "execution_count": 40,
     "metadata": {},
     "output_type": "execute_result"
    }
   ],
   "source": [
    "df.describe()"
   ]
  },
  {
   "cell_type": "code",
   "execution_count": 41,
   "id": "b4b22df0",
   "metadata": {},
   "outputs": [
    {
     "name": "stdout",
     "output_type": "stream",
     "text": [
      "Number of NaN values after extraction: 0    1617\n",
      "dtype: int64\n"
     ]
    }
   ],
   "source": [
    "# Check for null values after extraction\n",
    "null_count = df['title'].str.extract(r'(\\d+)').isnull().sum()\n",
    "print(f\"Number of NaN values after extraction: {null_count}\")"
   ]
  },
  {
   "cell_type": "code",
   "execution_count": 42,
   "id": "0cb115dd",
   "metadata": {},
   "outputs": [],
   "source": [
    "# Extract the first numerical digit from the 'title' column.\n",
    "# Use .fillna(0) to replace any NaN values (where no number was found) with 0.\n",
    "# Then, convert the entire column to an integer type.\n",
    "df['bhk'] = df['title'].str.extract(r'(\\d+)').fillna(0).astype(int)\n",
    "\n",
    "# Drop the original 'title' column as it's no longer needed.\n",
    "df = df.drop(columns=['title'])\n",
    "\n",
    "# The rest of your code can follow from here."
   ]
  },
  {
   "cell_type": "code",
   "execution_count": 45,
   "id": "e2efff96",
   "metadata": {},
   "outputs": [
    {
     "data": {
      "text/html": [
       "<div>\n",
       "<style scoped>\n",
       "    .dataframe tbody tr th:only-of-type {\n",
       "        vertical-align: middle;\n",
       "    }\n",
       "\n",
       "    .dataframe tbody tr th {\n",
       "        vertical-align: top;\n",
       "    }\n",
       "\n",
       "    .dataframe thead th {\n",
       "        text-align: right;\n",
       "    }\n",
       "</style>\n",
       "<table border=\"1\" class=\"dataframe\">\n",
       "  <thead>\n",
       "    <tr style=\"text-align: right;\">\n",
       "      <th></th>\n",
       "      <th>price(L)</th>\n",
       "      <th>rate_persqft</th>\n",
       "      <th>area_insqft</th>\n",
       "      <th>building_status</th>\n",
       "      <th>bhk</th>\n",
       "      <th>location_AS Rao Nagar</th>\n",
       "      <th>location_Abdullapurmet</th>\n",
       "      <th>location_Abids</th>\n",
       "      <th>location_Adibatla</th>\n",
       "      <th>location_Adikmet</th>\n",
       "      <th>...</th>\n",
       "      <th>location_Yacharam</th>\n",
       "      <th>location_Yacharam Mandal</th>\n",
       "      <th>location_Yadadri Colony Road</th>\n",
       "      <th>location_Yadagirigutta</th>\n",
       "      <th>location_Yapral</th>\n",
       "      <th>location_Yousufguda</th>\n",
       "      <th>location_Zaheerabad</th>\n",
       "      <th>location_financial District</th>\n",
       "      <th>location_muthangi</th>\n",
       "      <th>location_raidurgam</th>\n",
       "    </tr>\n",
       "  </thead>\n",
       "  <tbody>\n",
       "    <tr>\n",
       "      <th>0</th>\n",
       "      <td>108.00</td>\n",
       "      <td>6000</td>\n",
       "      <td>1805</td>\n",
       "      <td>3</td>\n",
       "      <td>3</td>\n",
       "      <td>False</td>\n",
       "      <td>False</td>\n",
       "      <td>False</td>\n",
       "      <td>False</td>\n",
       "      <td>False</td>\n",
       "      <td>...</td>\n",
       "      <td>False</td>\n",
       "      <td>False</td>\n",
       "      <td>False</td>\n",
       "      <td>False</td>\n",
       "      <td>False</td>\n",
       "      <td>False</td>\n",
       "      <td>False</td>\n",
       "      <td>False</td>\n",
       "      <td>False</td>\n",
       "      <td>False</td>\n",
       "    </tr>\n",
       "    <tr>\n",
       "      <th>1</th>\n",
       "      <td>85.80</td>\n",
       "      <td>5500</td>\n",
       "      <td>1560</td>\n",
       "      <td>3</td>\n",
       "      <td>3</td>\n",
       "      <td>False</td>\n",
       "      <td>False</td>\n",
       "      <td>False</td>\n",
       "      <td>False</td>\n",
       "      <td>False</td>\n",
       "      <td>...</td>\n",
       "      <td>False</td>\n",
       "      <td>False</td>\n",
       "      <td>False</td>\n",
       "      <td>False</td>\n",
       "      <td>False</td>\n",
       "      <td>False</td>\n",
       "      <td>False</td>\n",
       "      <td>False</td>\n",
       "      <td>False</td>\n",
       "      <td>False</td>\n",
       "    </tr>\n",
       "    <tr>\n",
       "      <th>2</th>\n",
       "      <td>55.64</td>\n",
       "      <td>5200</td>\n",
       "      <td>1070</td>\n",
       "      <td>3</td>\n",
       "      <td>2</td>\n",
       "      <td>False</td>\n",
       "      <td>False</td>\n",
       "      <td>False</td>\n",
       "      <td>False</td>\n",
       "      <td>False</td>\n",
       "      <td>...</td>\n",
       "      <td>False</td>\n",
       "      <td>False</td>\n",
       "      <td>False</td>\n",
       "      <td>False</td>\n",
       "      <td>False</td>\n",
       "      <td>False</td>\n",
       "      <td>False</td>\n",
       "      <td>False</td>\n",
       "      <td>False</td>\n",
       "      <td>False</td>\n",
       "    </tr>\n",
       "    <tr>\n",
       "      <th>3</th>\n",
       "      <td>60.48</td>\n",
       "      <td>4999</td>\n",
       "      <td>1210</td>\n",
       "      <td>3</td>\n",
       "      <td>2</td>\n",
       "      <td>False</td>\n",
       "      <td>False</td>\n",
       "      <td>False</td>\n",
       "      <td>False</td>\n",
       "      <td>False</td>\n",
       "      <td>...</td>\n",
       "      <td>False</td>\n",
       "      <td>False</td>\n",
       "      <td>False</td>\n",
       "      <td>False</td>\n",
       "      <td>False</td>\n",
       "      <td>False</td>\n",
       "      <td>False</td>\n",
       "      <td>False</td>\n",
       "      <td>False</td>\n",
       "      <td>False</td>\n",
       "    </tr>\n",
       "    <tr>\n",
       "      <th>4</th>\n",
       "      <td>113.00</td>\n",
       "      <td>5999</td>\n",
       "      <td>1900</td>\n",
       "      <td>3</td>\n",
       "      <td>3</td>\n",
       "      <td>False</td>\n",
       "      <td>False</td>\n",
       "      <td>False</td>\n",
       "      <td>False</td>\n",
       "      <td>False</td>\n",
       "      <td>...</td>\n",
       "      <td>False</td>\n",
       "      <td>False</td>\n",
       "      <td>False</td>\n",
       "      <td>False</td>\n",
       "      <td>False</td>\n",
       "      <td>False</td>\n",
       "      <td>False</td>\n",
       "      <td>False</td>\n",
       "      <td>False</td>\n",
       "      <td>False</td>\n",
       "    </tr>\n",
       "  </tbody>\n",
       "</table>\n",
       "<p>5 rows × 363 columns</p>\n",
       "</div>"
      ],
      "text/plain": [
       "   price(L)  rate_persqft  area_insqft  building_status  bhk  \\\n",
       "0    108.00          6000         1805                3    3   \n",
       "1     85.80          5500         1560                3    3   \n",
       "2     55.64          5200         1070                3    2   \n",
       "3     60.48          4999         1210                3    2   \n",
       "4    113.00          5999         1900                3    3   \n",
       "\n",
       "   location_AS Rao Nagar  location_Abdullapurmet  location_Abids  \\\n",
       "0                  False                   False           False   \n",
       "1                  False                   False           False   \n",
       "2                  False                   False           False   \n",
       "3                  False                   False           False   \n",
       "4                  False                   False           False   \n",
       "\n",
       "   location_Adibatla  location_Adikmet  ...  location_Yacharam  \\\n",
       "0              False             False  ...              False   \n",
       "1              False             False  ...              False   \n",
       "2              False             False  ...              False   \n",
       "3              False             False  ...              False   \n",
       "4              False             False  ...              False   \n",
       "\n",
       "   location_Yacharam Mandal  location_Yadadri Colony Road  \\\n",
       "0                     False                         False   \n",
       "1                     False                         False   \n",
       "2                     False                         False   \n",
       "3                     False                         False   \n",
       "4                     False                         False   \n",
       "\n",
       "   location_Yadagirigutta  location_Yapral  location_Yousufguda  \\\n",
       "0                   False            False                False   \n",
       "1                   False            False                False   \n",
       "2                   False            False                False   \n",
       "3                   False            False                False   \n",
       "4                   False            False                False   \n",
       "\n",
       "   location_Zaheerabad  location_financial District  location_muthangi  \\\n",
       "0                False                        False              False   \n",
       "1                False                        False              False   \n",
       "2                False                        False              False   \n",
       "3                False                        False              False   \n",
       "4                False                        False              False   \n",
       "\n",
       "   location_raidurgam  \n",
       "0               False  \n",
       "1               False  \n",
       "2               False  \n",
       "3               False  \n",
       "4               False  \n",
       "\n",
       "[5 rows x 363 columns]"
      ]
     },
     "execution_count": 45,
     "metadata": {},
     "output_type": "execute_result"
    }
   ],
   "source": [
    "# Drop unnecessary column if it exists\n",
    "if \"Unnamed: 0\" in df.columns:\n",
    "    df = df.drop(columns=[\"Unnamed: 0\"])\n",
    "\n",
    "# If 'title' still exists, extract bhk, otherwise skip\n",
    "if \"title\" in df.columns:\n",
    "    df['bhk'] = df['title'].str.extract(r'(\\d+)').fillna(0).astype(int)\n",
    "    df = df.drop(columns=['title'])\n",
    "\n",
    "# Encode categorical columns\n",
    "from sklearn.preprocessing import LabelEncoder\n",
    "\n",
    "le_status = LabelEncoder()\n",
    "df['building_status'] = le_status.fit_transform(df['building_status'])\n",
    "\n",
    "# One-hot encode 'location'\n",
    "df = pd.get_dummies(df, columns=['location'], drop_first=True)\n",
    "\n",
    "df.head()\n",
    "\n"
   ]
  },
  {
   "cell_type": "code",
   "execution_count": 46,
   "id": "a4e95e71",
   "metadata": {},
   "outputs": [],
   "source": [
    "# Check if price_per_sqft makes sense\n",
    "df['calc_price_per_sqft'] = (df['price(L)'] * 100000) / df['area_insqft']\n",
    "\n",
    "# Optional: drop the given 'rate_persqft' if redundant\n",
    "df = df.drop(columns=['rate_persqft'])\n"
   ]
  },
  {
   "cell_type": "code",
   "execution_count": 47,
   "id": "cb47243e",
   "metadata": {},
   "outputs": [
    {
     "name": "stdout",
     "output_type": "stream",
     "text": [
      "Train shape: (2928, 362)  Test shape: (732, 362)\n"
     ]
    }
   ],
   "source": [
    "# Features & Target\n",
    "X = df.drop(columns=['price(L)'])\n",
    "y = df['price(L)']\n",
    "\n",
    "# Train-test split\n",
    "X_train, X_test, y_train, y_test = train_test_split(\n",
    "    X, y, test_size=0.2, random_state=42\n",
    ")\n",
    "\n",
    "print(\"Train shape:\", X_train.shape, \" Test shape:\", X_test.shape)\n"
   ]
  },
  {
   "cell_type": "code",
   "execution_count": 48,
   "id": "8c18f66d",
   "metadata": {},
   "outputs": [
    {
     "data": {
      "text/plain": [
       "{'Linear Regression': {'MAE': 45.04323169836565,\n",
       "  'RMSE': np.float64(101.2276947107251),\n",
       "  'R²': 0.7301135988180805},\n",
       " 'Random Forest': {'MAE': 6.035071448087433,\n",
       "  'RMSE': np.float64(42.13466494529642),\n",
       "  'R²': 0.953241410873424},\n",
       " 'XGBoost': {'MAE': 8.174205805134903,\n",
       "  'RMSE': np.float64(43.33296976289934),\n",
       "  'R²': 0.950543973940941}}"
      ]
     },
     "execution_count": 48,
     "metadata": {},
     "output_type": "execute_result"
    }
   ],
   "source": [
    "# Candidate models\n",
    "models = {\n",
    "    \"Linear Regression\": LinearRegression(),\n",
    "    \"Random Forest\": RandomForestRegressor(random_state=42),\n",
    "    \"XGBoost\": XGBRegressor(random_state=42)\n",
    "}\n",
    "\n",
    "results = {}\n",
    "\n",
    "for name, model in models.items():\n",
    "    model.fit(X_train, y_train)\n",
    "    y_pred = model.predict(X_test)\n",
    "\n",
    "    mae = mean_absolute_error(y_test, y_pred)\n",
    "    rmse = np.sqrt(mean_squared_error(y_test, y_pred))\n",
    "    r2 = r2_score(y_test, y_pred)\n",
    "\n",
    "    results[name] = {\"MAE\": mae, \"RMSE\": rmse, \"R²\": r2}\n",
    "\n",
    "results\n"
   ]
  },
  {
   "cell_type": "code",
   "execution_count": 49,
   "id": "16dc1b93",
   "metadata": {},
   "outputs": [
    {
     "name": "stdout",
     "output_type": "stream",
     "text": [
      "                         MAE        RMSE        R²\n",
      "Linear Regression  45.043232  101.227695  0.730114\n",
      "Random Forest       6.035071   42.134665  0.953241\n",
      "XGBoost             8.174206   43.332970  0.950544\n"
     ]
    },
    {
     "data": {
      "image/png": "[encoded data removed]",
      "text/plain": [
       "<Figure size 600x600 with 1 Axes>"
      ]
     },
     "metadata": {},
     "output_type": "display_data"
    }
   ],
   "source": [
    "# Convert results to DataFrame\n",
    "results_df = pd.DataFrame(results).T\n",
    "print(results_df)\n",
    "\n",
    "# Visualization: Actual vs Predicted (best model)\n",
    "best_model = RandomForestRegressor(random_state=42)\n",
    "best_model.fit(X_train, y_train)\n",
    "y_pred_best = best_model.predict(X_test)\n",
    "\n",
    "plt.figure(figsize=(6,6))\n",
    "plt.scatter(y_test, y_pred_best, alpha=0.5)\n",
    "plt.xlabel(\"Actual Price (Lakhs)\")\n",
    "plt.ylabel(\"Predicted Price (Lakhs)\")\n",
    "plt.title(\"Actual vs Predicted Prices\")\n",
    "plt.plot([y.min(), y.max()], [y.min(), y.max()], 'r--')\n",
    "plt.show()\n"
   ]
  },
  {
   "cell_type": "code",
   "execution_count": 50,
   "id": "b54212fb",
   "metadata": {},
   "outputs": [
    {
     "data": {
      "image/png": "[encoded data removed]",
      "text/plain": [
       "<Figure size 1000x500 with 1 Axes>"
      ]
     },
     "metadata": {},
     "output_type": "display_data"
    }
   ],
   "source": [
    "importances = best_model.feature_importances_\n",
    "feature_names = X_train.columns\n",
    "feat_imp = pd.Series(importances, index=feature_names).sort_values(ascending=False)[:20]\n",
    "feat_imp.plot(kind='bar', figsize=(10,5), title=\"Top 20 Feature Importances\")\n",
    "plt.show()\n"
   ]
  },
  {
   "cell_type": "code",
   "execution_count": 51,
   "id": "16b3037a",
   "metadata": {},
   "outputs": [
    {
     "name": "stdout",
     "output_type": "stream",
     "text": [
      "Fitting 5 folds for each of 20 candidates, totalling 100 fits\n"
     ]
    },
    {
     "name": "stderr",
     "output_type": "stream",
     "text": [
      "d:\\dsmlai\\ccc\\lib\\site-packages\\sklearn\\model_selection\\_validation.py:516: FitFailedWarning: \n",
      "40 fits failed out of a total of 100.\n",
      "The score on these train-test partitions for these parameters will be set to nan.\n",
      "If these failures are not expected, you can try to debug them by setting error_score='raise'.\n",
      "\n",
      "Below are more details about the failures:\n",
      "--------------------------------------------------------------------------------\n",
      "30 fits failed with the following error:\n",
      "Traceback (most recent call last):\n",
      "  File \"d:\\dsmlai\\ccc\\lib\\site-packages\\sklearn\\model_selection\\_validation.py\", line 859, in _fit_and_score\n",
      "    estimator.fit(X_train, y_train, **fit_params)\n",
      "  File \"d:\\dsmlai\\ccc\\lib\\site-packages\\sklearn\\base.py\", line 1358, in wrapper\n",
      "    estimator._validate_params()\n",
      "  File \"d:\\dsmlai\\ccc\\lib\\site-packages\\sklearn\\base.py\", line 471, in _validate_params\n",
      "    validate_parameter_constraints(\n",
      "  File \"d:\\dsmlai\\ccc\\lib\\site-packages\\sklearn\\utils\\_param_validation.py\", line 98, in validate_parameter_constraints\n",
      "    raise InvalidParameterError(\n",
      "sklearn.utils._param_validation.InvalidParameterError: The 'max_features' parameter of RandomForestRegressor must be an int in the range [1, inf), a float in the range (0.0, 1.0], a str among {'sqrt', 'log2'} or None. Got 'auto' instead.\n",
      "\n",
      "--------------------------------------------------------------------------------\n",
      "10 fits failed with the following error:\n",
      "Traceback (most recent call last):\n",
      "  File \"d:\\dsmlai\\ccc\\lib\\site-packages\\sklearn\\model_selection\\_validation.py\", line 859, in _fit_and_score\n",
      "    estimator.fit(X_train, y_train, **fit_params)\n",
      "  File \"d:\\dsmlai\\ccc\\lib\\site-packages\\sklearn\\base.py\", line 1358, in wrapper\n",
      "    estimator._validate_params()\n",
      "  File \"d:\\dsmlai\\ccc\\lib\\site-packages\\sklearn\\base.py\", line 471, in _validate_params\n",
      "    validate_parameter_constraints(\n",
      "  File \"d:\\dsmlai\\ccc\\lib\\site-packages\\sklearn\\utils\\_param_validation.py\", line 98, in validate_parameter_constraints\n",
      "    raise InvalidParameterError(\n",
      "sklearn.utils._param_validation.InvalidParameterError: The 'max_features' parameter of RandomForestRegressor must be an int in the range [1, inf), a float in the range (0.0, 1.0], a str among {'log2', 'sqrt'} or None. Got 'auto' instead.\n",
      "\n",
      "  warnings.warn(some_fits_failed_message, FitFailedWarning)\n",
      "d:\\dsmlai\\ccc\\lib\\site-packages\\sklearn\\model_selection\\_search.py:1135: UserWarning: One or more of the test scores are non-finite: [0.55400835 0.70048842 0.47404001        nan        nan 0.55503495\n",
      " 0.68827024 0.80533941        nan 0.39568312        nan        nan\n",
      " 0.51229789 0.61673289        nan 0.77234656 0.62907095 0.6825247\n",
      "        nan        nan]\n",
      "  warnings.warn(\n"
     ]
    },
    {
     "name": "stdout",
     "output_type": "stream",
     "text": [
      "Best RF Params: {'n_estimators': 200, 'min_samples_split': 10, 'min_samples_leaf': 1, 'max_features': 'sqrt', 'max_depth': 20}\n"
     ]
    }
   ],
   "source": [
    "from sklearn.model_selection import RandomizedSearchCV\n",
    "\n",
    "# --------------------\n",
    "# Random Forest tuning\n",
    "# --------------------\n",
    "rf_params = {\n",
    "    'n_estimators': [100, 200, 500],\n",
    "    'max_depth': [None, 10, 20, 30],\n",
    "    'min_samples_split': [2, 5, 10],\n",
    "    'min_samples_leaf': [1, 2, 4],\n",
    "    'max_features': ['auto', 'sqrt', 'log2']\n",
    "}\n",
    "\n",
    "rf = RandomForestRegressor(random_state=42)\n",
    "rf_random = RandomizedSearchCV(\n",
    "    estimator=rf, param_distributions=rf_params,\n",
    "    n_iter=20, cv=5, verbose=2, n_jobs=-1, random_state=42\n",
    ")\n",
    "rf_random.fit(X_train, y_train)\n",
    "\n",
    "print(\"Best RF Params:\", rf_random.best_params_)\n"
   ]
  },
  {
   "cell_type": "markdown",
   "id": "1501d85d",
   "metadata": {},
   "source": [
    "The above warnings:\n",
    "\n",
    "The warning just means some parameter combos were invalid (max_features='auto').\n",
    "GridSearch still found the best valid parameters, so its fine. Just remove 'auto' from the search grid in future."
   ]
  },
  {
   "cell_type": "code",
   "execution_count": 52,
   "id": "15218101",
   "metadata": {},
   "outputs": [
    {
     "name": "stdout",
     "output_type": "stream",
     "text": [
      "Fitting 5 folds for each of 20 candidates, totalling 100 fits\n",
      "Best XGB Params: {'subsample': 0.6, 'n_estimators': 800, 'max_depth': 5, 'learning_rate': 0.05, 'colsample_bytree': 0.8}\n"
     ]
    }
   ],
   "source": [
    "# --------------------\n",
    "# XGBoost tuning\n",
    "# --------------------\n",
    "xgb_params = {\n",
    "    'n_estimators': [200, 500, 800],\n",
    "    'max_depth': [3, 5, 7, 10],\n",
    "    'learning_rate': [0.01, 0.05, 0.1, 0.2],\n",
    "    'subsample': [0.6, 0.8, 1.0],\n",
    "    'colsample_bytree': [0.6, 0.8, 1.0]\n",
    "}\n",
    "\n",
    "xgb = XGBRegressor(random_state=42)\n",
    "xgb_random = RandomizedSearchCV(\n",
    "    estimator=xgb, param_distributions=xgb_params,\n",
    "    n_iter=20, cv=5, verbose=2, n_jobs=-1, random_state=42\n",
    ")\n",
    "xgb_random.fit(X_train, y_train)\n",
    "\n",
    "print(\"Best XGB Params:\", xgb_random.best_params_)\n"
   ]
  },
  {
   "cell_type": "code",
   "execution_count": 53,
   "id": "278b5ef9",
   "metadata": {},
   "outputs": [
    {
     "data": {
      "text/plain": [
       "<Axes: title={'center': 'Top 20 Features'}>"
      ]
     },
     "execution_count": 53,
     "metadata": {},
     "output_type": "execute_result"
    },
    {
     "data": {
      "image/png": "[encoded data removed]",
      "text/plain": [
       "<Figure size 800x600 with 1 Axes>"
      ]
     },
     "metadata": {},
     "output_type": "display_data"
    }
   ],
   "source": [
    "importances = rf_random.best_estimator_.feature_importances_\n",
    "feat_imp = pd.Series(importances, index=X_train.columns).sort_values(ascending=False)[:20]\n",
    "feat_imp.plot(kind='barh', figsize=(8,6), title=\"Top 20 Features\")\n"
   ]
  },
  {
   "cell_type": "code",
   "execution_count": 54,
   "id": "b62e4ae5",
   "metadata": {},
   "outputs": [
    {
     "name": "stdout",
     "output_type": "stream",
     "text": [
      "                             MAE       RMSE        R²\n",
      "Model                                                \n",
      "Random Forest (Tuned)  31.769974  88.960232  0.791563\n",
      "XGBoost (Tuned)         6.796349  38.687015  0.960580\n"
     ]
    }
   ],
   "source": [
    "from sklearn.metrics import mean_absolute_error, mean_squared_error, r2_score\n",
    "import numpy as np\n",
    "import pandas as pd\n",
    "from xgboost import XGBRegressor\n",
    "from sklearn.ensemble import RandomForestRegressor\n",
    "\n",
    "# --- Train tuned Random Forest ---\n",
    "best_rf = RandomForestRegressor(\n",
    "    n_estimators=200,\n",
    "    min_samples_split=10,\n",
    "    min_samples_leaf=1,\n",
    "    max_features='sqrt',\n",
    "    max_depth=20,\n",
    "    random_state=42,\n",
    "    n_jobs=-1\n",
    ")\n",
    "best_rf.fit(X_train, y_train)\n",
    "y_pred_rf = best_rf.predict(X_test)\n",
    "\n",
    "# --- Train tuned XGBoost ---\n",
    "best_xgb = XGBRegressor(\n",
    "    subsample=0.6,\n",
    "    n_estimators=800,\n",
    "    max_depth=5,\n",
    "    learning_rate=0.05,\n",
    "    colsample_bytree=0.8,\n",
    "    random_state=42,\n",
    "    n_jobs=-1\n",
    ")\n",
    "best_xgb.fit(X_train, y_train)\n",
    "y_pred_xgb = best_xgb.predict(X_test)\n",
    "\n",
    "# --- Metrics function ---\n",
    "def evaluate_model(y_true, y_pred, model_name):\n",
    "    mae = mean_absolute_error(y_true, y_pred)\n",
    "    rmse = np.sqrt(mean_squared_error(y_true, y_pred))\n",
    "    r2 = r2_score(y_true, y_pred)\n",
    "    return {\"Model\": model_name, \"MAE\": mae, \"RMSE\": rmse, \"R²\": r2}\n",
    "\n",
    "# --- Collect results ---\n",
    "results = []\n",
    "results.append(evaluate_model(y_test, y_pred_rf, \"Random Forest (Tuned)\"))\n",
    "results.append(evaluate_model(y_test, y_pred_xgb, \"XGBoost (Tuned)\"))\n",
    "\n",
    "# Convert to DataFrame for easy view\n",
    "results_df = pd.DataFrame(results).set_index(\"Model\")\n",
    "print(results_df)\n"
   ]
  },
  {
   "cell_type": "code",
   "execution_count": 55,
   "id": "b3615ed2",
   "metadata": {},
   "outputs": [
    {
     "data": {
      "text/plain": [
       "['best_xgb_model.pkl']"
      ]
     },
     "execution_count": 55,
     "metadata": {},
     "output_type": "execute_result"
    }
   ],
   "source": [
    "# save model\n",
    "\n",
    "import joblib\n",
    "joblib.dump(best_xgb, \"best_xgb_model.pkl\")\n"
   ]
  },
  {
   "cell_type": "code",
   "execution_count": 56,
   "id": "a308a6d9",
   "metadata": {},
   "outputs": [],
   "source": [
    "model = joblib.load(\"best_xgb_model.pkl\")\n"
   ]
  },
  {
   "cell_type": "code",
   "execution_count": 60,
   "id": "c2712ae0",
   "metadata": {},
   "outputs": [
    {
     "name": "stdout",
     "output_type": "stream",
     "text": [
      "[38.301277 98.11086  42.856495 31.282425 51.52336 ]\n"
     ]
    }
   ],
   "source": [
    "sample = X_test.iloc[:5]  # first 5 rows\n",
    "preds = best_xgb.predict(sample)\n",
    "print(preds)\n"
   ]
  },
  {
   "cell_type": "code",
   "execution_count": 61,
   "id": "8d8a48c0",
   "metadata": {},
   "outputs": [
    {
     "name": "stdout",
     "output_type": "stream",
     "text": [
      "   Actual Price (L)  Predicted Price (L)  Error (L)\n",
      "0             33.00            38.301277  -5.301277\n",
      "1             97.00            98.110863  -1.110863\n",
      "2             41.90            42.856495  -0.956495\n",
      "3             32.00            31.282425   0.717575\n",
      "4             53.98            51.523361   2.456639\n"
     ]
    }
   ],
   "source": [
    "import pandas as pd\n",
    "\n",
    "# Get predictions for first 5 test rows\n",
    "preds = best_xgb.predict(X_test.iloc[:5])\n",
    "\n",
    "# Create comparison DataFrame\n",
    "comparison = pd.DataFrame({\n",
    "    \"Actual Price (L)\": y_test.iloc[:5].values,\n",
    "    \"Predicted Price (L)\": preds,\n",
    "    \"Error (L)\": y_test.iloc[:5].values - preds\n",
    "})\n",
    "\n",
    "print(comparison)\n"
   ]
  },
  {
   "cell_type": "markdown",
   "id": "5b2f4223",
   "metadata": {},
   "source": [
    "observations from your results:\n",
    "\n",
    "Predictions are very close to actual values, with most errors within 1–5 Lakhs.\n",
    "\n",
    "The model performs consistently well, with only minor deviations.\n",
    "\n",
    "Error sizes align with the overall MAE (~6.8 Lakhs) reported earlier.\n",
    "\n",
    "High R² (0.96) confirms the model captures most of the variation in housing prices.\n",
    "\n",
    "Conclusion: The tuned XGBoost model is making reliable and accurate predictions for housing prices."
   ]
  }
 ],
 "metadata": {
  "kernelspec": {
   "display_name": "ccc (3.10.11)",
   "language": "python",
   "name": "python3"
  },
  "language_info": {
   "codemirror_mode": {
    "name": "ipython",
    "version": 3
   },
   "file_extension": ".py",
   "mimetype": "text/x-python",
   "name": "python",
   "nbconvert_exporter": "python",
   "pygments_lexer": "ipython3",
   "version": "3.10.11"
  }
 },
 "nbformat": 4,
 "nbformat_minor": 5
}
